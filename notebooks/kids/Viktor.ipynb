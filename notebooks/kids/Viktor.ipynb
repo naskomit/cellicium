{
 "cells": [
  {
   "cell_type": "code",
   "execution_count": 30,
   "id": "running-fourth",
   "metadata": {},
   "outputs": [],
   "source": [
    "import numpy as np\n",
    "import pylab as plt"
   ]
  },
  {
   "cell_type": "code",
   "execution_count": 2,
   "id": "anticipated-determination",
   "metadata": {},
   "outputs": [
    {
     "data": {
      "text/plain": [
       "30"
      ]
     },
     "execution_count": 2,
     "metadata": {},
     "output_type": "execute_result"
    }
   ],
   "source": [
    "5*6"
   ]
  },
  {
   "cell_type": "code",
   "execution_count": 4,
   "id": "national-snake",
   "metadata": {},
   "outputs": [],
   "source": [
    "def sed10(x):\n",
    "    return x+2"
   ]
  },
  {
   "cell_type": "code",
   "execution_count": 5,
   "id": "mental-cheat",
   "metadata": {},
   "outputs": [
    {
     "data": {
      "text/plain": [
       "6"
      ]
     },
     "execution_count": 5,
     "metadata": {},
     "output_type": "execute_result"
    }
   ],
   "source": [
    "sed10(4)"
   ]
  },
  {
   "cell_type": "code",
   "execution_count": 6,
   "id": "heated-instrument",
   "metadata": {},
   "outputs": [
    {
     "data": {
      "text/plain": [
       "1878"
      ]
     },
     "execution_count": 6,
     "metadata": {},
     "output_type": "execute_result"
    }
   ],
   "source": [
    "sed10(1876)"
   ]
  },
  {
   "cell_type": "code",
   "execution_count": 7,
   "id": "bigger-check",
   "metadata": {},
   "outputs": [],
   "source": [
    "def e4(x):\n",
    "    return x+4"
   ]
  },
  {
   "cell_type": "code",
   "execution_count": 8,
   "id": "cordless-credit",
   "metadata": {},
   "outputs": [
    {
     "data": {
      "text/plain": [
       "8"
      ]
     },
     "execution_count": 8,
     "metadata": {},
     "output_type": "execute_result"
    }
   ],
   "source": [
    "e4(4)"
   ]
  },
  {
   "cell_type": "code",
   "execution_count": 11,
   "id": "spanish-mountain",
   "metadata": {},
   "outputs": [
    {
     "data": {
      "text/plain": [
       "49"
      ]
     },
     "execution_count": 11,
     "metadata": {},
     "output_type": "execute_result"
    }
   ],
   "source": [
    "e4(45)"
   ]
  },
  {
   "cell_type": "code",
   "execution_count": 12,
   "id": "announced-hello",
   "metadata": {},
   "outputs": [
    {
     "data": {
      "text/plain": [
       "106"
      ]
     },
     "execution_count": 12,
     "metadata": {},
     "output_type": "execute_result"
    }
   ],
   "source": [
    "e4(102)"
   ]
  },
  {
   "cell_type": "code",
   "execution_count": 13,
   "id": "miniature-chain",
   "metadata": {},
   "outputs": [
    {
     "data": {
      "text/plain": [
       "448"
      ]
     },
     "execution_count": 13,
     "metadata": {},
     "output_type": "execute_result"
    }
   ],
   "source": [
    "e4(444)"
   ]
  },
  {
   "cell_type": "code",
   "execution_count": 23,
   "id": "forty-tractor",
   "metadata": {},
   "outputs": [],
   "source": [
    "def u1(x):\n",
    "    if x > 5:\n",
    "        return 1\n",
    "    else:\n",
    "        return 0"
   ]
  },
  {
   "cell_type": "code",
   "execution_count": 25,
   "id": "quick-stake",
   "metadata": {},
   "outputs": [
    {
     "data": {
      "text/plain": [
       "1"
      ]
     },
     "execution_count": 25,
     "metadata": {},
     "output_type": "execute_result"
    }
   ],
   "source": [
    "u1(6)"
   ]
  },
  {
   "cell_type": "code",
   "execution_count": 26,
   "id": "thick-wilderness",
   "metadata": {},
   "outputs": [
    {
     "data": {
      "text/plain": [
       "1"
      ]
     },
     "execution_count": 26,
     "metadata": {},
     "output_type": "execute_result"
    }
   ],
   "source": [
    "u1(12)"
   ]
  },
  {
   "cell_type": "code",
   "execution_count": 27,
   "id": "ordinary-wages",
   "metadata": {},
   "outputs": [
    {
     "data": {
      "text/plain": [
       "0"
      ]
     },
     "execution_count": 27,
     "metadata": {},
     "output_type": "execute_result"
    }
   ],
   "source": [
    "u1(4)"
   ]
  },
  {
   "cell_type": "code",
   "execution_count": 28,
   "id": "casual-backup",
   "metadata": {},
   "outputs": [
    {
     "data": {
      "text/plain": [
       "0"
      ]
     },
     "execution_count": 28,
     "metadata": {},
     "output_type": "execute_result"
    }
   ],
   "source": [
    "u1(5)"
   ]
  },
  {
   "cell_type": "code",
   "execution_count": 45,
   "id": "funded-little",
   "metadata": {},
   "outputs": [
    {
     "data": {
      "text/plain": [
       "[<matplotlib.lines.Line2D at 0x7f7a8b056d90>]"
      ]
     },
     "execution_count": 45,
     "metadata": {},
     "output_type": "execute_result"
    },
    {
     "data": {
      "image/png": "[encoded data removed]",
      "text/plain": [
       "<Figure size 432x288 with 1 Axes>"
      ]
     },
     "metadata": {
      "needs_background": "light"
     },
     "output_type": "display_data"
    }
   ],
   "source": [
    "x=np.arange(1000)\n",
    "y=np.sin(x/10)\n",
    "z=np.cos(x*1.7/10+0.2)\n",
    "plt.plot(y,z, color = \"red\")"
   ]
  },
  {
   "cell_type": "code",
   "execution_count": null,
   "id": "stylish-dublin",
   "metadata": {},
   "outputs": [],
   "source": []
  }
 ],
 "metadata": {
  "kernelspec": {
   "display_name": "Python 3",
   "language": "python",
   "name": "python3"
  },
  "language_info": {
   "codemirror_mode": {
    "name": "ipython",
    "version": 3
   },
   "file_extension": ".py",
   "mimetype": "text/x-python",
   "name": "python",
   "nbconvert_exporter": "python",
   "pygments_lexer": "ipython3",
   "version": "3.8.6"
  }
 },
 "nbformat": 4,
 "nbformat_minor": 5
}
