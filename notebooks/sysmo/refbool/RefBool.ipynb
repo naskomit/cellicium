{
 "cells": [
  {
   "cell_type": "markdown",
   "id": "invisible-survey",
   "metadata": {},
   "source": [
    "# RefBool"
   ]
  },
  {
   "cell_type": "code",
   "execution_count": 1,
   "id": "radio-exhibit",
   "metadata": {},
   "outputs": [
    {
     "name": "stdout",
     "output_type": "stream",
     "text": [
      "['/root/host_home/pylibs', '/root/host_home/notebooks/jenie-notebooks', '/opt/python/lib/python38.zip', '/opt/python/lib/python3.8', '/opt/python/lib/python3.8/lib-dynload', '', '/opt/python/lib/python3.8/site-packages', '/opt/python/lib/python3.8/site-packages/IPython/extensions', '/root/.ipython']\n"
     ]
    }
   ],
   "source": [
    "import sys\n",
    "sys.path.insert(0, \"/root/host_home/pylibs\")\n",
    "print(sys.path)\n"
   ]
  },
  {
   "cell_type": "code",
   "execution_count": 18,
   "id": "divided-accreditation",
   "metadata": {},
   "outputs": [],
   "source": [
    "import numpy as np\n",
    "import pandas as pd\n",
    "%matplotlib inline\n",
    "import matplotlib.pyplot as plt\n",
    "import pybedtools as pbt\n",
    "from tqdm.notebook import tqdm\n",
    "import os\n",
    "\n",
    "import jenie.distributions as jdist\n",
    "import jenie.multiproc as jmp\n"
   ]
  },
  {
   "cell_type": "code",
   "execution_count": 4,
   "id": "pharmaceutical-newcastle",
   "metadata": {},
   "outputs": [],
   "source": [
    "the_cache = {}"
   ]
  },
  {
   "cell_type": "code",
   "execution_count": 19,
   "id": "educational-assistant",
   "metadata": {},
   "outputs": [],
   "source": [
    "import importlib\n",
    "def reload_user_libs():\n",
    "    importlib.reload(jdist)\n",
    "    importlib.reload(jmp)\n",
    "    print(\"Reloaded\")"
   ]
  },
  {
   "cell_type": "code",
   "execution_count": 22,
   "id": "forty-hydrogen",
   "metadata": {},
   "outputs": [
    {
     "name": "stdout",
     "output_type": "stream",
     "text": [
      "Reloaded\n"
     ]
    },
    {
     "data": {
      "application/vnd.jupyter.widget-view+json": {
       "model_id": "328c0f46f7c14c66b94c732673205bd6",
       "version_major": 2,
       "version_minor": 0
      },
      "text/plain": [
       "0it [00:00, ?it/s]"
      ]
     },
     "metadata": {},
     "output_type": "display_data"
    },
    {
     "name": "stdout",
     "output_type": "stream",
     "text": [
      "Range: (0.0, 251.125153335268), Mean: 11.784157962912127, Median: 1.59870681537522\n",
      "Off: 254@0.25466637211917365, On: 139@18.519067338216477\n"
     ]
    },
    {
     "data": {
      "image/png": "[encoded data removed]",
      "text/plain": [
       "<Figure size 1440x360 with 3 Axes>"
      ]
     },
     "metadata": {
      "needs_background": "light"
     },
     "output_type": "display_data"
    }
   ],
   "source": [
    "reload_user_libs()\n",
    "\n",
    "class RefBool():\n",
    "    def __init__(self):\n",
    "        self.base_folder = \"/root/host_home/external/irene\"\n",
    "    def load_ref_data(self):\n",
    "        if not ('ref_data' in the_cache):\n",
    "            ref_folder = os.path.join(self.base_folder, \"data/RefBool_ReferenceDistributions/reference\")\n",
    "            ref_data = pd.read_csv(os.path.join(ref_folder, \"ExpressionLibrary.txt\"), sep = '\\t')\n",
    "            ref_data.rename(columns = {'geneID': 'gene_id'}, inplace = True)\n",
    "            ref_data.set_index('gene_id', inplace = True)\n",
    "            print(\"Ref Expr Data: \", ref_data.shape)\n",
    "            gene_mapping = pd.read_csv(os.path.join(ref_folder, \"Co_TF_CRF_Biomart.txt\"), sep = '\\t')\n",
    "            gene_mapping.set_index('gene_id', inplace = True)\n",
    "            print(\"Gene Mapping: \", gene_mapping.shape)\n",
    "            ref_data = gene_mapping.join(ref_data,  how='inner')\n",
    "            ref_data.reset_index(drop = True, inplace = True)\n",
    "            ref_data.set_index('gene_name', inplace = True)\n",
    "            display(ref_data)\n",
    "            #ref_data.drop(columns = ['geneID', 'gene_id'])\n",
    "            the_cache['ref_data'] = ref_data\n",
    "            \n",
    "        self.ref_data = the_cache['ref_data']\n",
    "        self.n_genes = self.ref_data.shape[0]\n",
    "        self.n_samples = self.ref_data.shape[1]\n",
    "    \n",
    "    def determine_threshold_distribution(self, bootstrap_samples = 1000, precision = 1e-3, sortby = 'AIC', takeMaxThresholds = False):\n",
    "        self.all_fit_dist(self.ref_data, sortby)\n",
    "    \n",
    "    def all_fit_dist(self, data, sortby):\n",
    "        #   sorted by the parameter SORTBY\n",
    "        # NLogL - Negative of the log likelihood\n",
    "        # BIC - Bayesian information criterion (default)\n",
    "        # AIC - Akaike information criterion\n",
    "        # AICc - AIC with a correction for finite sample sizes        \n",
    "\n",
    "        self.distributions = {}\n",
    "        #selected_genes = ['NANOG']\n",
    "        # ['SNAI1', 'SNAI2', 'ZEB1', 'TWIST1', 'TWIST2', 'LEF1', 'ETS1', 'FOXC2', 'GSC', 'GSC2']\n",
    "        selected_genes = ['SNAI2']\n",
    "        #total_genes = len(selected_genes)\n",
    "        #genes = np.random.randint(0, self.n_genes, total_genes)\n",
    "        gene_data = [{\"raw_data\" : data.loc[gene_name]} for gene_name in selected_genes]\n",
    "        \n",
    "        def on_success(x):\n",
    "            self.distributions[x[\"index\"]] = x[\"value\"]\n",
    "            \n",
    "        runner = jmp.MPRunner(\n",
    "          func = jdist.fit_distribution,\n",
    "          success_cb = on_success\n",
    "        )\n",
    "        runner.apply(gene_data)\n",
    "        \n",
    "    def plot_ecdf(self, ax, data, plt_args = None):\n",
    "        from statsmodels.distributions.empirical_distribution import ECDF\n",
    "        data_min = np.min(data)\n",
    "        data_max = np.max(data)\n",
    "        x = np.linspace(data_min, data_max, 100)\n",
    "        ecdf = ECDF(data)\n",
    "        if plt_args is None:\n",
    "            plt_args = {}\n",
    "        ax.plot(x, ecdf(x), **plt_args)\n",
    "        \n",
    "    def plot1(self):\n",
    "        import matplotlib.patches as patches\n",
    "        import scipy.interpolate as interp\n",
    "        \n",
    "        fig, ax = plt.subplots(1, 3, figsize = (20, 5))\n",
    "\n",
    "        dist1 = self.distributions[0]\n",
    "        raw = dist1[\"raw\"]\n",
    "        x_global = dist1[\"distrib\"][\"x\"]\n",
    "        #pdf = interp.interp1d(dist1[\"distrib\"][\"x\"], dist1[\"distrib\"][\"pdf\"])\n",
    "        cdf = interp.interp1d(dist1[\"distrib\"][\"x\"], dist1[\"distrib\"][\"cdf\"])\n",
    "        x_on_mean = dist1[\"x_on\"].mean()\n",
    "        x_off_mean = dist1[\"x_off\"].mean()\n",
    "        data_min = np.min(raw)\n",
    "        data_max = np.max(raw)\n",
    "        x_bins = np.linspace(data_min, data_max, 100)\n",
    "        ind_off = dist1[\"raw\"] < x_off_mean\n",
    "        ind_on = dist1[\"raw\"] > x_on_mean\n",
    "        print(f\"Range: ({data_min}, {data_max}), Mean: {np.mean(raw)}, Median: {np.median(raw)}\")\n",
    "        print(f\"Off: {ind_off.sum()}@{x_off_mean}, On: {ind_on.sum()}@{x_on_mean}\")\n",
    "        #ax[0].hist(dist1[\"raw\"], bins = x_bins, log = True, color = \"blue\")\n",
    "        ax[0].hist(dist1[\"raw\"][ind_off], bins = x_bins, log = True, color = \"blue\")\n",
    "        ax[0].hist(dist1[\"raw\"][~(ind_on | ind_off)], bins = x_bins, log = True, color = \"green\")\n",
    "        ax[0].hist(dist1[\"raw\"][ind_on], bins = x_bins, log = True, color = \"red\")\n",
    "        \n",
    "        ax[1].plot(x_global, dist1[\"distrib\"][\"cdf\"])\n",
    "        self.plot_ecdf(ax[1], raw)\n",
    "        #ax[1].plot(x_global, ecdf(x_global))\n",
    "        rect_off = patches.Rectangle((0, cdf(x_off_mean)), x_off_mean, 1 - cdf(x_off_mean), linewidth=1, edgecolor='r', facecolor='none')\n",
    "        rect_on = patches.Rectangle((x_on_mean, 0), np.max(raw) - x_on_mean, cdf(x_on_mean), linewidth=1, edgecolor='r', facecolor='none')\n",
    "        ax[1].add_patch(rect_off)\n",
    "        ax[1].add_patch(rect_on)\n",
    "        \n",
    "        self.plot_ecdf(ax[2], dist1[\"x_off\"], {\"label\": \"x_off\"})\n",
    "        self.plot_ecdf(ax[2], dist1[\"x_on\"], {\"label\": \"x_on\"})\n",
    "        ax[2].legend()\n",
    "       \n",
    "    def print(self):\n",
    "        pass\n",
    "        \n",
    "rb = RefBool()\n",
    "rb.load_ref_data()\n",
    "rb.determine_threshold_distribution()\n",
    "rb.plot1()\n",
    "#rb.print()"
   ]
  },
  {
   "cell_type": "code",
   "execution_count": 70,
   "id": "about-syndication",
   "metadata": {},
   "outputs": [
    {
     "data": {
      "text/plain": [
       "{16330: {'distr': <scipy.stats._continuous_distns.beta_gen at 0x7fdbcf2cd460>,\n",
       "  'stats': 'RSS',\n",
       "  'params': (2.7830258028532917,\n",
       "   106104813581.60501,\n",
       "   29.827244092660727,\n",
       "   3072593952020.769),\n",
       "  'name': 'beta',\n",
       "  'model': <scipy.stats._distn_infrastructure.rv_frozen at 0x7fdc0afec040>,\n",
       "  'score': 8.760647489822896e-06,\n",
       "  'loc': 29.827244092660727,\n",
       "  'scale': 3072593952020.769,\n",
       "  'arg': (2.7830258028532917, 106104813581.60501),\n",
       "  'CII_min_alpha': 50.34378743884005,\n",
       "  'CII_max_alpha': 202.67670113751845},\n",
       " 9014: {'distr': <scipy.stats._continuous_distns.expon_gen at 0x7fdbcf2ee4c0>,\n",
       "  'stats': 'RSS',\n",
       "  'params': (0.0, 0.10428468391290448),\n",
       "  'name': 'expon',\n",
       "  'model': <scipy.stats._distn_infrastructure.rv_frozen at 0x7fdbc2f87310>,\n",
       "  'score': 3.8494966858709945,\n",
       "  'loc': 0.0,\n",
       "  'scale': 0.10428468391290448,\n",
       "  'arg': (),\n",
       "  'CII_min_alpha': 0.005349104992057265,\n",
       "  'CII_max_alpha': 0.31240899323526455},\n",
       " 23734: {'distr': <scipy.stats._continuous_distns.expon_gen at 0x7fdbcf2ee4c0>,\n",
       "  'stats': 'RSS',\n",
       "  'params': (0.0, 0.003748446779594818),\n",
       "  'name': 'expon',\n",
       "  'model': <scipy.stats._distn_infrastructure.rv_frozen at 0x7fdbc2ee65b0>,\n",
       "  'score': 821.9233753038416,\n",
       "  'loc': 0.0,\n",
       "  'scale': 0.003748446779594818,\n",
       "  'arg': (),\n",
       "  'CII_min_alpha': 0.00019227018416182276,\n",
       "  'CII_max_alpha': 0.011229342993331715},\n",
       " 5071: {'distr': <scipy.stats._continuous_distns.burr_gen at 0x7fdbcf2cde50>,\n",
       "  'stats': 'RSS',\n",
       "  'params': (5.471550035412424,\n",
       "   0.9536946404846421,\n",
       "   -0.0809901620132016,\n",
       "   22.25094813534044),\n",
       "  'name': 'burr',\n",
       "  'model': <scipy.stats._distn_infrastructure.rv_frozen at 0x7fdc0842a850>,\n",
       "  'score': 0.0004401377286388292,\n",
       "  'loc': -0.0809901620132016,\n",
       "  'scale': 22.25094813534044,\n",
       "  'arg': (5.471550035412424, 0.9536946404846421),\n",
       "  'CII_min_alpha': 12.552702655545454,\n",
       "  'CII_max_alpha': 37.693200183736224},\n",
       " 17444: {'distr': <scipy.stats._continuous_distns.burr_gen at 0x7fdbcf2cde50>,\n",
       "  'stats': 'RSS',\n",
       "  'params': (2.7818958149374096,\n",
       "   1.7292131753191498,\n",
       "   -0.05641371644663945,\n",
       "   8.607838742161661),\n",
       "  'name': 'burr',\n",
       "  'model': <scipy.stats._distn_infrastructure.rv_frozen at 0x7fdbc30a6a90>,\n",
       "  'score': 0.0005952042914177128,\n",
       "  'loc': -0.05641371644663945,\n",
       "  'scale': 8.607838742161661,\n",
       "  'arg': (2.7818958149374096, 1.7292131753191498),\n",
       "  'CII_min_alpha': 4.896044167516883,\n",
       "  'CII_max_alpha': 30.265910800625218}}"
      ]
     },
     "execution_count": 70,
     "metadata": {},
     "output_type": "execute_result"
    }
   ],
   "source": [
    "rb.distributions"
   ]
  },
  {
   "cell_type": "code",
   "execution_count": 66,
   "id": "anticipated-cooking",
   "metadata": {},
   "outputs": [
    {
     "data": {
      "text/plain": [
       "array(['ATF6B', 'ATF6B', 'ATF6B', 'BRD2', 'BRD2', 'BRD2', 'BRD2', 'BRD2',\n",
       "       'BRD2', 'DAXX', 'DAXX', 'DAXX', 'DAXX', 'EHMT2', 'EHMT2', 'EHMT2',\n",
       "       'EHMT2', 'EHMT2', 'EHMT2', 'GATAD2B', 'PAXBP1', 'PBX2', 'PBX2',\n",
       "       'PBX2', 'PBX2', 'PBX2', 'PBX2', 'PHF1', 'POU5F1', 'POU5F1',\n",
       "       'POU5F1', 'POU5F1', 'POU5F1', 'POU5F1', 'RING1', 'RING1', 'RING1',\n",
       "       'RING1', 'RING1', 'RXRB', 'RXRB', 'RXRB', 'RXRB', 'RXRB', 'SALL3',\n",
       "       'TCF19', 'TCF19', 'TCF19', 'TCF19', 'TCF19', 'TCF19', 'TCF20',\n",
       "       'TRIM27', 'TRIM27', 'TRIM27', 'TRIM27', 'TRIM27', 'TRIM27',\n",
       "       'ZBTB12', 'ZBTB12', 'ZBTB12', 'ZBTB12', 'ZFP57', 'ZFP57', 'ZFP57',\n",
       "       'ZFP57', 'ZFP57', 'ZFP57', 'ZFP57', 'ZNF311', 'ZNF311', 'ZNF311',\n",
       "       'ZNF311', 'ZNF311', 'ZNF311'], dtype=object)"
      ]
     },
     "execution_count": 66,
     "metadata": {},
     "output_type": "execute_result"
    }
   ],
   "source": [
    "np.sort(np.array(rb.ref_data.loc[(rb.ref_data.duplicated(subset = ['gene_name'])), \"gene_name\"]))\n",
    "np.array(rb.ref_data.filter(like=\"NANOG\", axis = 0)"
   ]
  },
  {
   "cell_type": "code",
   "execution_count": 38,
   "id": "orange-discipline",
   "metadata": {},
   "outputs": [
    {
     "data": {
      "text/plain": [
       "Sample.290    4.311300\n",
       "Sample.289    0.014694\n",
       "Sample.295    9.642530\n",
       "Sample.297    0.946624\n",
       "Sample.293    0.981863\n",
       "                ...   \n",
       "Sample.243    7.630734\n",
       "Sample.244    2.441336\n",
       "Sample.245    1.445353\n",
       "Sample.246    0.809330\n",
       "Sample.247    8.472192\n",
       "Name: SNAI1, Length: 675, dtype: float64"
      ]
     },
     "execution_count": 38,
     "metadata": {},
     "output_type": "execute_result"
    }
   ],
   "source": [
    "rb.ref_data.loc['SNAI1']"
   ]
  },
  {
   "cell_type": "code",
   "execution_count": 39,
   "id": "seven-costs",
   "metadata": {},
   "outputs": [
    {
     "data": {
      "text/plain": [
       "DescribeResult(nobs=675, minmax=(0.0, 43.8984961943041), mean=3.5939809110131393, variance=24.6584761154946, skewness=3.170462665041427, kurtosis=14.215863471269)"
      ]
     },
     "execution_count": 39,
     "metadata": {},
     "output_type": "execute_result"
    }
   ],
   "source": [
    "from scipy import stats\n",
    "stats.describe(np.array(rb.ref_data.loc['SNAI1']).flatten())"
   ]
  },
  {
   "cell_type": "code",
   "execution_count": 1,
   "id": "exterior-arrow",
   "metadata": {},
   "outputs": [
    {
     "data": {
      "text/plain": [
       "'/root/host_home/notebooks/jenie-notebooks'"
      ]
     },
     "execution_count": 1,
     "metadata": {},
     "output_type": "execute_result"
    }
   ],
   "source": [
    "import os\n",
    "os.getcwd()"
   ]
  },
  {
   "cell_type": "code",
   "execution_count": null,
   "id": "correct-destiny",
   "metadata": {},
   "outputs": [],
   "source": []
  }
 ],
 "metadata": {
  "kernelspec": {
   "display_name": "Python 3",
   "language": "python",
   "name": "python3"
  },
  "language_info": {
   "codemirror_mode": {
    "name": "ipython",
    "version": 3
   },
   "file_extension": ".py",
   "mimetype": "text/x-python",
   "name": "python",
   "nbconvert_exporter": "python",
   "pygments_lexer": "ipython3",
   "version": "3.8.6"
  }
 },
 "nbformat": 4,
 "nbformat_minor": 5
}
