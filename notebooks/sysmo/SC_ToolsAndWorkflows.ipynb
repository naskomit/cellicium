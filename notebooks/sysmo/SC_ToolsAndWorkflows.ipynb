{
 "cells": [
  {
   "cell_type": "markdown",
   "id": "exterior-anthropology",
   "metadata": {},
   "source": [
    "# Single Cell Tools & Workflows"
   ]
  },
  {
   "cell_type": "markdown",
   "id": "catholic-conviction",
   "metadata": {},
   "source": [
    "## Tools"
   ]
  },
  {
   "cell_type": "markdown",
   "id": "hairy-alliance",
   "metadata": {},
   "source": [
    "### AnnData\n",
    "  - GitHub: https://github.com/theislab/anndata\n",
    "  - Docs: https://anndata.readthedocs.io/\n",
    "  - Paper: "
   ]
  },
  {
   "cell_type": "markdown",
   "id": "aerial-plain",
   "metadata": {},
   "source": [
    "### ScanPy\n",
    "\n",
    "  - GitHub: https://github.com/theislab/scanpy\n",
    "  - Docs: https://scanpy.readthedocs.io/\n",
    "  - Tutorials: https://scanpy-tutorials.readthedocs.io/\n",
    "  - Paper: [SCANPY: large-scale single-cell gene expression data analysis](https://genomebiology.biomedcentral.com/articles/10.1186/s13059-017-1382-0)\n",
    "  \n",
    "Features:\n",
    "  - Preprocessing\n",
    "    - QC, filtering\n",
    "    - normalization\n",
    "    - regress out variations\n",
    "    - recipes\n",
    "    - batch effect correction\n",
    "    - neighbors\n",
    "  - Tools\n",
    "    - Embedding: PCA, t-SNE, UMAP, DiffMap\n",
    "    - Clustering: Leiden/Lovain/PAGA\n",
    "    - Detect marker genes\n",
    "  - Reading & writing data: h5ad/hdf, loom\n",
    "  - Gene annotation retrieval\n",
    "  \n",
    "Tutorials:\n",
    "  - [Trajectory inference for hematopoiesis in mouse](https://scanpy-tutorials.readthedocs.io/en/latest/paga-paul15.html)\n",
    "  \n",
    "<img src=\"http://falexwolf.de/img/scanpy/anndata.svg\" width=400/>"
   ]
  },
  {
   "cell_type": "markdown",
   "id": "departmental-special",
   "metadata": {},
   "source": [
    "### scVelo\n",
    "\n",
    "  - Github: https://github.com/theislab/scvelo\n",
    "  - Docs: https://scvelo.readthedocs.io/\n",
    "  - Paper: [Generalizing RNA velocity to transient cell states through dynamical modeling](https://www.nature.com/articles/s41587-020-0591-3)\n",
    "  \n",
    "Tutorials:\n",
    "- [RNA Velocity Basics](https://scvelo.readthedocs.io/VelocityBasics/)\n",
    "\n",
    "<img src=\"https://scvelo.readthedocs.io/_images/VelocityBasics_23_1.png\" width=400/>"
   ]
  },
  {
   "cell_type": "markdown",
   "id": "explicit-allocation",
   "metadata": {},
   "source": [
    "### scVI\n",
    "\n",
    "  - GitHub: https://github.com/YosefLab/scVI\n",
    "  - Paper: [Deep generative modeling for single-cell transcriptomics](https://www.nature.com/articles/s41592-018-0229-2)\n",
    "  \n",
    "  "
   ]
  },
  {
   "cell_type": "markdown",
   "id": "gross-savings",
   "metadata": {},
   "source": [
    "### PAGA - partition-based graph abstraction\n",
    "\n",
    "  - GitHub: https://github.com/theislab/paga\n",
    "  - Paper: [PAGA: graph abstraction reconciles clustering with trajectory inference through a topology preserving map of single cells](https://genomebiology.biomedcentral.com/articles/10.1186/s13059-019-1663-x)"
   ]
  },
  {
   "cell_type": "markdown",
   "id": "special-valve",
   "metadata": {},
   "source": [
    "## Workflows"
   ]
  },
  {
   "cell_type": "markdown",
   "id": "minimal-civilian",
   "metadata": {},
   "source": [
    "### Analysis of single cell RNA-seq data (Sanger)\n",
    "\n",
    "  - URL: https://scrnaseq-course.cog.sanger.ac.uk/website/index.html"
   ]
  },
  {
   "cell_type": "markdown",
   "id": "modern-connecticut",
   "metadata": {},
   "source": [
    "### Current best practices in single-cell RNA-seq analysis: a tutorial\n",
    "\n",
    "  - Paper: https://www.embopress.org/doi/full/10.15252/msb.20188746"
   ]
  },
  {
   "cell_type": "markdown",
   "id": "flying-playlist",
   "metadata": {},
   "source": [
    "### Batch Effects\n",
    "\n",
    "- Paper [Batch effects and the effective design of single-cell gene expression studies](https://www.nature.com/articles/srep39921)"
   ]
  },
  {
   "cell_type": "markdown",
   "id": "existing-chicago",
   "metadata": {
    "heading_collapsed": "true"
   },
   "source": [
    "### Downstream analysis\n",
    "\n",
    "- groups of cells with similar gene expression profiles representing cell-type clusters\n",
    "- small changes in gene expression between similar cells denoting continuous (differentiation) trajectories\n",
    "- genes with correlated expression profiles indicating co-regulation\n",
    "\n",
    "- Cell level:\n",
    "  - Cluster analysis\n",
    "    - Clustering\n",
    "      - KNN\n",
    "      - multi-resolution modularity optimization (Louvain)\n",
    "      - Leiden (improved Louvain)\n",
    "    - Compositional analysis\n",
    "    - Cluster annotation\n",
    "      - What is a cell type?\n",
    "      - Cluster vs cell type vs cell identity\n",
    "      - Expression references\n",
    "        - marker genes\n",
    "        - full gene expression profiles\n",
    "      - Cell surface markers (limited)\n",
    "  - Trajectory analysis\n",
    "    - Trajectory inference\n",
    "    - Metastable states\n",
    "    - Gene expression dynamics\n",
    "- Gene levels:\n",
    "  - Differential expression analysis\n",
    "  - Gene set analysis\n",
    "  - Gene regulatory networks\n",
    "  \n",
    "<img src=\"images/msb188746-fig-0005-m.jpg\" width = 800/>"
   ]
  },
  {
   "cell_type": "markdown",
   "id": "dietary-effectiveness",
   "metadata": {
    "heading_collapsed": "true"
   },
   "source": [
    "## Concepts"
   ]
  },
  {
   "cell_type": "markdown",
   "id": "spanish-natural",
   "metadata": {},
   "source": [
    "### Cell Identity\n",
    "\n",
    "- Paper: [Revealing the vectors of cellular identity with single-cell genomics](https://www.nature.com/articles/nbt.3711)"
   ]
  },
  {
   "cell_type": "markdown",
   "id": "indirect-advertising",
   "metadata": {},
   "source": [
    "## Whole organism datasets"
   ]
  },
  {
   "cell_type": "markdown",
   "id": "conceptual-consistency",
   "metadata": {},
   "source": [
    "### Human Cell Atlas\n",
    "\n",
    "- Data portal: https://www.humancellatlas.org/\n",
    "- Paper: https://elifesciences.org/articles/27041"
   ]
  },
  {
   "cell_type": "markdown",
   "id": "sudden-electricity",
   "metadata": {},
   "source": [
    "### A Single-Cell Atlas of In Vivo Mammalian Chromatin Accessibility\n",
    "\n",
    "- Paper: https://www.sciencedirect.com/science/article/pii/S0092867418308559"
   ]
  },
  {
   "cell_type": "markdown",
   "id": "special-boundary",
   "metadata": {},
   "source": [
    "### Tabula Muris (Mouse Cell Atlas)\n",
    "\n",
    "- Paper: [Single-cell transcriptomics of 20 mouse organs creates a Tabula Muris](https://www.nature.com/articles/s41586-018-0590-4)\n",
    "- Data (AWS): https://github.com/czbiohub/tabula-muris/blob/master/tabula-muris-on-aws.md\n",
    "- Gihub (code + how to get data): https://github.com/czbiohub/tabula-muris"
   ]
  },
  {
   "cell_type": "markdown",
   "id": "educated-kennedy",
   "metadata": {},
   "source": [
    "### Combined sc-RNA + sc-ATAC seq\n",
    "\n",
    "- Paper: [Single cell RNA-seq and ATAC-seq analysis of cardiac progenitor cell transition states and lineage settlement\n",
    "Download PDF](https://www.nature.com/articles/s41467-018-07307-6)\n"
   ]
  },
  {
   "cell_type": "markdown",
   "id": "correct-craps",
   "metadata": {},
   "source": [
    "### A cell atlas of chromatin accessibility across 25 adult human tissues\n",
    "\n",
    "- Paper: https://www.biorxiv.org/content/10.1101/2021.02.17.431699v1"
   ]
  },
  {
   "cell_type": "markdown",
   "id": "alone-delivery",
   "metadata": {},
   "source": [
    "## Single-tissue datasets"
   ]
  },
  {
   "cell_type": "markdown",
   "id": "selective-pound",
   "metadata": {},
   "source": [
    "### Blood development + network inference method\n",
    "\n",
    "- Paper: [Decoding the regulatory network of early blood development from single-cell gene expression measurements](https://www.nature.com/articles/nbt.3154)"
   ]
  },
  {
   "cell_type": "markdown",
   "id": "lined-assist",
   "metadata": {},
   "source": [
    "### Zebrafish embryo\n",
    "\n",
    "  - Paper: [Single-cell mapping of gene expression landscapes and lineage in the zebrafish embryo](https://science.sciencemag.org/content/360/6392/981)\n",
    "    - Local: [Open](papers/wagner2018.pdf)"
   ]
  },
  {
   "cell_type": "markdown",
   "id": "sorted-settle",
   "metadata": {},
   "source": [
    "## Presentation\n",
    "\n",
    "## RNA sequencing\n",
    "\n",
    "### Single Cell Sequencing\n",
    "\n",
    "<img src=\"https://upload.wikimedia.org/wikipedia/commons/thumb/a/aa/RNA-Seq_workflow-5.pdf/page1-800px-RNA-Seq_workflow-5.pdf.jpg\"/>\n",
    "\n",
    "- [Introduction to scRNA by Eric Chow](https://youtu.be/k9VFNLLQP8c)\n",
    "\n",
    "- separating cells\n",
    "  - FACS\n",
    "  - Laser capture microdisection\n",
    "  - Microfluidics\n",
    "  \n",
    "- prepro"
   ]
  },
  {
   "cell_type": "code",
   "execution_count": null,
   "id": "weird-relief",
   "metadata": {},
   "outputs": [],
   "source": []
  }
 ],
 "metadata": {
  "kernelspec": {
   "display_name": "Python 3",
   "language": "python",
   "name": "python3"
  },
  "language_info": {
   "codemirror_mode": {
    "name": "ipython",
    "version": 3
   },
   "file_extension": ".py",
   "mimetype": "text/x-python",
   "name": "python",
   "nbconvert_exporter": "python",
   "pygments_lexer": "ipython3",
   "version": "3.8.6"
  }
 },
 "nbformat": 4,
 "nbformat_minor": 5
}
