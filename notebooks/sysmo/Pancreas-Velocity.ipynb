{
 "cells": [
  {
   "cell_type": "markdown",
   "id": "ff7c2abe",
   "metadata": {
    "tags": []
   },
   "source": [
    "# Pancreatic Endocrinogenesis"
   ]
  },
  {
   "cell_type": "markdown",
   "id": "3ed95a90",
   "metadata": {
    "tags": []
   },
   "source": [
    "## Overview"
   ]
  },
  {
   "cell_type": "markdown",
   "id": "6f66c55f",
   "metadata": {
    "tags": []
   },
   "source": [
    "### Pancreas anatomy\n",
    "\n",
    "<img src=\"https://upload.wikimedia.org/wikipedia/commons/7/7e/Blausen_0699_PancreasAnatomy2.png\" width=500 />"
   ]
  },
  {
   "cell_type": "markdown",
   "id": "8b44e2a7",
   "metadata": {
    "tags": [],
    "toc-hr-collapsed": true
   },
   "source": [
    "### Physiology\n",
    "\n",
    "- mixed or heterocrine gland, i.e. it has both an endocrine (1%) and a digestive exocrine (99%) function\n",
    "- endocrine:\n",
    "  -  insulin, glucagon, somatostatin, and pancreatic polypeptide\n",
    "- exocrine (pancreatic juice):\n",
    "  - bicarbonate (neutralizes acid entering the duodenum from the stomach)\n",
    "  - digestive enzymes, which break down carbohydrates, proteins, and fats\n",
    " \n",
    "### Cellular development\n",
    "\n",
    "<img src=\"https://upload.wikimedia.org/wikipedia/commons/4/43/Panc.png\"  width = 600/>\n",
    "\n",
    "Pancreatic progenitor cells are precursor cells that differentiate into the functional pancreatic cells, including exocrine acinar cells, endocrine islet cells, and ductal cells.[17] These progenitor cells are characterised by the co-expression of the transcription factors PDX1 and NKX6-1.[17]\n",
    "\n",
    "The cells of the exocrine pancreas differentiate through molecules that induce differentiation including follistatin, fibroblast growth factors, and activation of the Notch receptor system.[17] Development of the exocrine acini progresses through three successive stages. These are the predifferentiated, protodifferentiated, and differentiated stages, which correspond to undetectable, low, and high levels of digestive enzyme activity, respectively.[17]\n",
    "\n",
    "Pancreatic progenitor cells differentiate into endocrine islet cells under the influence of neurogenin-3 and ISL1, but only in the absence of notch receptor signaling. Under the direction of a Pax gene, the endocrine precursor cells differentiate to form alpha and gamma cells. Under the direction of Pax-6, the endocrine precursor cells differentiate to form beta and delta cells.[17] The pancreatic islets form as the endocrine cells migrate from the duct system to form small clusters around capillaries.[9] This occurs around the third month of development,[11] and insulin and glucagon can be detected in the human fetal circulation by the fourth or fifth month of development.[17]\n",
    "\n"
   ]
  },
  {
   "cell_type": "markdown",
   "id": "41054771",
   "metadata": {
    "tags": []
   },
   "source": [
    "### From http://www.vivo.colostate.edu/hbooks/pathphys/endocrine/pancreas/anatomy.html\n",
    "\n",
    "Pancreatic islets house three major cell types, each of which produces a different endocrine product:\n",
    "\n",
    "- Alpha cells (A cells) secrete the hormone glucagon.\n",
    "- Beta cells (B cells) produce insulin and are the most abundant of the islet cells.\n",
    "- Delta cells (D cells) secrete the hormone somatostatin, which is also produced by a number of other endocrine cells in the body.\n",
    "Interestingly, the different cell types within an islet are not randomly distributed - beta cells occupy the central portion of the islet and are surrounded by a \"rind\" of alpha and delta cells. Aside from the insulin, glucagon and somatostatin, a number of other \"minor\" hormones have been identified as products of pancreatic islets cells.\n",
    "\n",
    "Islets are richly vascularized, allowing their secreted hormones ready access to the circulation. Although islets comprise only 1-2% of the mass of the pancreas, they receive about 10 to 15% of the pancreatic blood flow. Additionally, they are innervated by parasympathetic and sympathetic neurons, and nervous signals clearly modulate secretion of insulin and glucagon.\n",
    "\n",
    "## Pancreatic progenitor cell (source https://en.wikipedia.org/wiki/Pancreatic_progenitor_cell)\n",
    "\n",
    "- pancreatic progenitors\n",
    "  - Pdx1 : earliest marker for pancreatic differentiation\n",
    "  - Mnx1/Hlxb1 ?\n",
    "- exocrine cells\n",
    "  - acinar cells\n",
    "    - amylase, lipase, peptidase\n",
    "  - ductal cells\n",
    "- endocrine cells\n",
    "  - beta cells -> insulin\n",
    "  - alpha cells -> glucagon\n",
    "  - delta cells -> somatostatin\n",
    "  - PP cells -> pancreatic polypetide\n",
    "  \n",
    "## [YouTube: Pancreas Clinical Anatomy and Physiology](https://youtu.be/9TSt9IuozMg)\n",
    "\n",
    "## [Genetic programming of liver and pancreas progenitors: lessons for stem-cell differentiation](https://www.nature.com/articles/nrg2318)"
   ]
  },
  {
   "cell_type": "markdown",
   "id": "6c819662",
   "metadata": {
    "tags": [],
    "toc-hr-collapsed": true
   },
   "source": [
    "## Data description"
   ]
  },
  {
   "cell_type": "markdown",
   "id": "e5b9db5b",
   "metadata": {
    "tags": []
   },
   "source": [
    "### Data source\n",
    "\n",
    "We will reanalyze data from the paper [Comprehensive single cell mRNA profiling reveals a detailed roadmap for pancreatic endocrinogenesis](https://journals.biologists.com/dev/article/146/12/dev173849/19483/Comprehensive-single-cell-mRNA-profiling-reveals-a)\n",
    "- Code: https://github.com/theislab/pancreatic-endocrinogenesis\n",
    "- Data: [GSE132188](https://www.ncbi.nlm.nih.gov/geo/query/acc.cgi?acc=GSE132188)\n",
    "\n",
    "There is another paper from the same authors [Generalizing RNA velocity to transient cell states through dynamical modeling](https://www.nature.com/articles/s41587-020-0591-3)\n",
    "The paper states:\n",
    "  > Endocrine cells are derived from endocrine progenitors located in the pancreatic epithelium, marked by transient expression of the transcription factor Ngn3. Endocrine commitment terminates in four major fates: glucagon-producing α-cells, insulin-producing β-cells, somatostatin-producing δ-cells and ghrelin-producing ∈-cells\n",
    "\n",
    "###"
   ]
  },
  {
   "cell_type": "markdown",
   "id": "8c04f4ab",
   "metadata": {
    "heading_collapsed": "true",
    "tags": []
   },
   "source": [
    "## Prepare the environment"
   ]
  },
  {
   "cell_type": "code",
   "execution_count": null,
   "id": "c4c8fa2d",
   "metadata": {},
   "outputs": [],
   "source": [
    "import numpy as np\n",
    "import pandas as pd\n",
    "import scanpy as sc\n",
    "import scanpy.logging as logg\n",
    "import scvelo as scv\n",
    "import matplotlib.pyplot as plt\n",
    "import seaborn as sns\n",
    "import gseapy as gp\n",
    "import plotly.graph_objects as go\n",
    "scv.set_figure_params()\n",
    "scv.settings.presenter_view = True  # set max width size for presenter view\n",
    "scv.settings.set_figure_params('scvelo')  # for beautified visualization\n",
    "plt.rcParams['figure.figsize']=(8,8) #rescale figures\n",
    "sc.settings.verbosity = 3\n",
    "# Matplotlib backwards compatibility hack\n",
    "import matplotlib\n",
    "matplotlib.cbook.iterable = np.iterable"
   ]
  },
  {
   "cell_type": "markdown",
   "id": "0f5e407b",
   "metadata": {
    "tags": []
   },
   "source": [
    "### Loading data from various DBs"
   ]
  },
  {
   "cell_type": "code",
   "execution_count": null,
   "id": "7baef7b9",
   "metadata": {},
   "outputs": [],
   "source": [
    "# PanglaoDB Gene Markers\n",
    "panglao_gene_markers = pd.read_csv('../../../external/Panglao/PanglaoDB_markers_27_Mar_2020.tsv', sep='\\t')\n",
    "panglao_gene_markers = panglao_gene_markers[(panglao_gene_markers.species == 'Mm') | (panglao_gene_markers.species == 'Mm Hs')]\n",
    "panglao_gene_markers = panglao_gene_markers.rename(columns = {'official gene symbol': 'gene', 'cell type': 'cell_type', 'ubiquitousness index': 'ui'})\n",
    "panglao_gene_markers = panglao_gene_markers.loc[:, ['gene', 'cell_type', 'organ', 'ui']]\n",
    "print(\"Markers: \",  len(panglao_gene_markers[\"gene\"].unique()))\n",
    "print(\"Cell types: \", len(panglao_gene_markers[\"cell_type\"].unique()))\n",
    "print(\"Organs: \", len(panglao_gene_markers[\"organ\"].unique()))\n",
    "panglao_gene_markers.loc[:, 'gene'] = panglao_gene_markers.loc[:, 'gene'].str.lower().str.capitalize()\n",
    "cell_type_groups = panglao_gene_markers.loc[:, ['gene', 'cell_type']].groupby('cell_type')\n",
    "gene_markers = {}\n",
    "for name, data in cell_type_groups:\n",
    "    gene_markers[name] = data.gene.values.tolist()"
   ]
  },
  {
   "cell_type": "code",
   "execution_count": null,
   "id": "424a2dd5",
   "metadata": {},
   "outputs": [],
   "source": [
    "# Cell Marker DB\n",
    "cell_marker_gene_markers = pd.read_csv('../../../external/CellMarker/Mouse_cell_markers.txt', sep='\\t')\n",
    "cell_marker_gene_markers = cell_marker_gene_markers[cell_marker_gene_markers.cellType == 'Normal cell']\n",
    "cell_marker_gene_markers = cell_marker_gene_markers.rename(columns = {'geneSymbol' : 'gene', 'tissueType': 'organ', 'cellName': 'cell_type' })\n",
    "cell_marker_gene_markers = cell_marker_gene_markers.loc[:, ['organ', 'cell_type', 'gene']]\n",
    "#display(cell_marker_gene_markers)\n",
    "cell_marker_gene_markers = cell_marker_gene_markers.set_index(['organ', 'cell_type']) \\\n",
    "    .apply(lambda x: x.str.split(',').explode().str.strip()) \\\n",
    "    .reset_index()\n",
    "print(\"Markers: \",  len(cell_marker_gene_markers[\"gene\"].unique()))\n",
    "print(\"Cell types: \", len(cell_marker_gene_markers[\"cell_type\"].unique()))\n",
    "print(\"Organs: \", len(cell_marker_gene_markers[\"organ\"].unique()))"
   ]
  },
  {
   "cell_type": "code",
   "execution_count": null,
   "id": "56c071ad",
   "metadata": {},
   "outputs": [],
   "source": [
    "common_markers = cell_marker_gene_markers.set_index(['organ', 'gene']) \\\n",
    "    .join(panglao_gene_markers.set_index(['organ', 'gene']), lsuffix='_cell_marker', rsuffix='_panglao', how = 'inner') \\\n",
    "    .reset_index()\n",
    "common_markers.to_csv('CellTypes.csv')"
   ]
  },
  {
   "cell_type": "code",
   "execution_count": null,
   "id": "546b4241",
   "metadata": {},
   "outputs": [],
   "source": [
    "# # Get transcription factors from TRRUST\n",
    "# tf_mouse_interactions = pd.read_csv(\"../../../external/trrustv2/trrust_rawdata.mouse.tsv\", sep = \"\\t\", header = None, names = [\"TF1\", \"TF2\", \"Effect\", \"Reference\"])\n",
    "# tf_mouse = set(tf_mouse_interactions[\"TF1\"]) #.union(set(tf_mouse_interactions[\"TF2\"]))\n",
    "# tf_mouse = list(tf_mouse)\n",
    "# print(len(tf_mouse))\n",
    "\n",
    "# Get transcription factors from TFDB3\n",
    "tf_mouse_table = pd.read_csv(\"../../../external/AnimalTFDB3/Mus_musculus_TF.txt\", sep = \"\\t\")\n",
    "tf_mouse = tf_mouse_table.Symbol\n",
    "print(\"Number of transcription factors: \", (len(tf_mouse)))"
   ]
  },
  {
   "cell_type": "code",
   "execution_count": null,
   "id": "0bd155c6",
   "metadata": {},
   "outputs": [],
   "source": [
    "# TF activities From Saez-Rodriguez' Lab 'Dorothea'\n",
    "tf_interactions_sr = pd.read_csv(\"../../../external/Dorothea/Supplemental_Tables/GarciaAlonso_Supplemental_Tables/RegulonsNormal.csv\")\n",
    "tf_interactions_sr"
   ]
  },
  {
   "cell_type": "markdown",
   "id": "76d279b7",
   "metadata": {
    "tags": [],
    "toc-hr-collapsed": true
   },
   "source": [
    "## Helper functions"
   ]
  },
  {
   "cell_type": "code",
   "execution_count": null,
   "id": "fbd87290",
   "metadata": {},
   "outputs": [],
   "source": [
    "def gene_tf_stats(expr_data, tf_list):\n",
    "    gene_max = expr_data.X.max(axis = 0).toarray().flatten()\n",
    "    tf_ind = np.in1d(expr_data.var.index.values, tf_list)\n",
    "    tf_max = gene_max[tf_ind]\n",
    "    tf_names = expr_data.var.index.values[tf_ind]\n",
    "    fig, axes = plt.subplots(1, 2, figsize = (15, 5))\n",
    "    axes[0].hist(gene_max, bins = 50, log = True, range = (0, 500))\n",
    "    axes[0].set_title(\"Max cell count distribution per gene\")\n",
    "    axes[1].hist(tf_max, bins = 50, log = True, range = (0, 100))\n",
    "    axes[1].set_title(\"Max cell count distribution per TF\")\n",
    "    cnt_threshold = 0 \n",
    "    print(f\"Gene Count > {cnt_threshold}: {gene_max[gene_max > cnt_threshold].shape[0]}, TF count > {cnt_threshold}: {tf_max[tf_max > cnt_threshold].shape[0]}\", )\n",
    "    cnt_threshold = 10\n",
    "    print(f\"Gene Count > {cnt_threshold}: {gene_max[gene_max > cnt_threshold].shape[0]}, TF count > {cnt_threshold}: {tf_max[tf_max > cnt_threshold].shape[0]}\", )\n",
    "    cnt_threshold = 20\n",
    "    print(f\"Gene Count > {cnt_threshold}: {gene_max[gene_max > cnt_threshold].shape[0]}, TF count > {cnt_threshold}: {tf_max[tf_max > cnt_threshold].shape[0]}\", )\n",
    "    print(\"TF: \", tf_names[tf_max >= 20])\n",
    "    cnt_threshold = 40\n",
    "    print(f\"Gene Count > {cnt_threshold}: {gene_max[gene_max > cnt_threshold].shape[0]}, TF count > {cnt_threshold}: {tf_max[tf_max > cnt_threshold].shape[0]}\", )\n",
    "    cnt_threshold = 100\n",
    "    print(f\"Gene Count > {cnt_threshold}: {gene_max[gene_max > cnt_threshold].shape[0]}, TF count > {cnt_threshold}: {tf_max[tf_max > cnt_threshold].shape[0]}\", )\n",
    "    cnt_threshold = 200\n",
    "    print(f\"Gene Count > {cnt_threshold}: {gene_max[gene_max > cnt_threshold].shape[0]}, TF count > {cnt_threshold}: {tf_max[tf_max > cnt_threshold].shape[0]}\", )\n",
    "    print(\"Genes: \", expr_data.var.index.values[gene_max > 200])"
   ]
  },
  {
   "cell_type": "markdown",
   "id": "f498e594",
   "metadata": {
    "heading_collapsed": "true",
    "tags": []
   },
   "source": [
    "## Using processed expression matrices"
   ]
  },
  {
   "cell_type": "code",
   "execution_count": null,
   "id": "41f48bff",
   "metadata": {},
   "outputs": [],
   "source": [
    "# Read the raw gene matrices from  \n",
    "# tar -xvzf GSM3852754_E14_5_counts.tar.gz; mv mm10 E14_5\n",
    "expr_data = sc.read_10x_mtx(\"../../../external/GSE132188_RAW/E15_5\", cache = True)\n",
    "expr_data"
   ]
  },
  {
   "cell_type": "markdown",
   "id": "3737d0e2",
   "metadata": {
    "tags": []
   },
   "source": [
    "### QC"
   ]
  },
  {
   "cell_type": "code",
   "execution_count": null,
   "id": "d9c103f5",
   "metadata": {},
   "outputs": [],
   "source": [
    "# Counts per cell\n",
    "expr_data.obs['n_counts'] = expr_data.X.sum(axis = 1)\n",
    "# Log-counts per cell\n",
    "expr_data.obs['log_counts'] = np.log10(expr_data.obs['n_counts'])\n",
    "# Genes per cell\n",
    "expr_data.obs['n_genes'] = (expr_data.X > 0).sum(axis = 1)\n",
    "# Mitochondrial gene counts per cell\n",
    "mt_gene_mask = [gene.startswith('mt-') for gene in expr_data.var_names]\n",
    "mt_gene_index = np.where(mt_gene_mask)[0]\n",
    "expr_data.obs['mt_frac'] = expr_data.X[:,mt_gene_index].sum(axis = 1) / expr_data.X.sum(axis = 1)\n",
    "# Show sample info\n",
    "display(expr_data.obs)"
   ]
  },
  {
   "cell_type": "code",
   "execution_count": null,
   "id": "68c573c5",
   "metadata": {},
   "outputs": [],
   "source": [
    "# Plot quality metrics\n",
    "fig, axes = plt.subplots(1, 3, figsize = (8, 10))\n",
    "sc.pl.violin(expr_data, 'n_counts', cut = 0, ax = axes[0], show = False)\n",
    "sc.pl.violin(expr_data, 'n_genes', cut = 0, ax = axes[1], show = False)\n",
    "sc.pl.violin(expr_data, 'mt_frac', cut = 0, ax = axes[2], show = True)\n",
    "\n",
    "#sc.pl.scatter(expr_data, 'n_counts', 'n_genes', color = 'mt_frac')\n",
    "sc.pl.scatter(expr_data, 'n_counts', 'n_genes', color='mt_frac')\n",
    "# sc.pl.scatter(expr_data, 'n_counts', 'mt_frac', ax = axes[1, 1], show = False)\n",
    "# sc.pl.scatter(expr_data, 'n_genes', 'mt_frac', ax = axes[1, 2], show = False)"
   ]
  },
  {
   "cell_type": "code",
   "execution_count": null,
   "id": "22db76d9",
   "metadata": {},
   "outputs": [],
   "source": [
    "print('Total number of cells: {:d}'.format(expr_data.n_obs))\n",
    "expr_data = expr_data[expr_data.obs['mt_frac'] < 0.2]\n",
    "print('Number of cells after MT filter: {:d}'.format(expr_data.n_obs))\n",
    "\n",
    "sc.pp.filter_cells(expr_data, min_genes = 1200)\n",
    "print('Number of cells after gene filter: {:d}'.format(expr_data.n_obs))\n",
    "#Filter genes:\n",
    "print('Total number of genes: {:d}'.format(expr_data.n_vars))\n",
    "\n",
    "# Min 20 cells - filters out 0 count genes\n",
    "sc.pp.filter_genes(expr_data, min_cells=20)\n",
    "print('Number of genes after cell filter: {:d}'.format(expr_data.n_vars))"
   ]
  },
  {
   "cell_type": "markdown",
   "id": "203afcf2",
   "metadata": {},
   "source": [
    "### Normalization"
   ]
  },
  {
   "cell_type": "code",
   "execution_count": null,
   "id": "90c2f61b",
   "metadata": {},
   "outputs": [],
   "source": [
    "# Perform log1p transformation (x -> log(1 + x)) and quantile normalization\n",
    "gene_tf_stats(expr_data, tf_mouse)\n",
    "sc.pp.normalize_total(expr_data, target_sum = 1e4)\n",
    "sc.pp.log1p(expr_data)"
   ]
  },
  {
   "cell_type": "markdown",
   "id": "0a92c6ad",
   "metadata": {},
   "source": [
    "### Highly variable genes"
   ]
  },
  {
   "cell_type": "code",
   "execution_count": null,
   "id": "23d8c703",
   "metadata": {},
   "outputs": [],
   "source": [
    "sc.pp.highly_variable_genes(expr_data, flavor = 'cell_ranger', n_top_genes = 5000)\n",
    "print('\\n','Number of highly variable genes: {:d}'.format(np.sum(expr_data.var['highly_variable'])))"
   ]
  },
  {
   "cell_type": "code",
   "execution_count": null,
   "id": "770c50f3",
   "metadata": {},
   "outputs": [],
   "source": [
    "expr_data.var"
   ]
  },
  {
   "cell_type": "code",
   "execution_count": null,
   "id": "5124e438",
   "metadata": {},
   "outputs": [],
   "source": [
    "sc.pl.highly_variable_genes(expr_data)"
   ]
  },
  {
   "cell_type": "code",
   "execution_count": null,
   "id": "df109033",
   "metadata": {},
   "outputs": [],
   "source": [
    "sc.pl.highest_expr_genes(expr_data, n_top=20)"
   ]
  },
  {
   "cell_type": "code",
   "execution_count": null,
   "id": "11ff1ebf",
   "metadata": {},
   "outputs": [],
   "source": [
    "expr_data_hvg = expr_data.copy()\n",
    "expr_data_hvg = expr_data_hvg[:, expr_data.var['highly_variable']]\n",
    "expr_data_hvg"
   ]
  },
  {
   "cell_type": "markdown",
   "id": "924b7bce",
   "metadata": {},
   "source": [
    "### Embedding"
   ]
  },
  {
   "cell_type": "code",
   "execution_count": null,
   "id": "0f2e6765",
   "metadata": {},
   "outputs": [],
   "source": [
    "sc.pp.pca(expr_data_hvg)\n",
    "print(\"...done PCA\")\n",
    "sc.pp.neighbors(expr_data_hvg)\n",
    "print(\"...done finding neighbours\")\n",
    "# sc.tl.diffmap(expr_data_hvg)\n",
    "# print(\"...done Diffmap\")\n",
    "sc.tl.umap(expr_data_hvg, n_components = 2)\n",
    "print('...done UMAP')\n"
   ]
  },
  {
   "cell_type": "code",
   "execution_count": null,
   "id": "45015e17",
   "metadata": {},
   "outputs": [],
   "source": [
    "#Transfer UMAP and other coordinates to full data objects\n",
    "expr_data.obsm['X_umap'] = expr_data_hvg.obsm['X_umap']\n",
    "# expr_data.obsm['X_tsne'] = expr_data_hvg.obsm['X_tsne']\n",
    "#expr_data.obsm['X_diffmap'] = expr_data_hvg.obsm['X_diffmap']\n",
    "#expr_data.uns['diffmap_evals'] = expr_data_hvg.uns['diffmap_evals']"
   ]
  },
  {
   "cell_type": "code",
   "execution_count": null,
   "id": "bb5feff4",
   "metadata": {},
   "outputs": [],
   "source": [
    "sc.pl.umap(expr_data)"
   ]
  },
  {
   "cell_type": "markdown",
   "id": "0bff29bb",
   "metadata": {},
   "source": [
    "### Cell cycle"
   ]
  },
  {
   "cell_type": "code",
   "execution_count": null,
   "id": "5380042f",
   "metadata": {},
   "outputs": [],
   "source": [
    "#Score cell cycle and visualize the effect:\n",
    "cc_genes_file = \"../../../external/scanpy/Macosko_cell_cycle_genes.txt\"\n",
    "cc_genes = pd.read_table(cc_genes_file, delimiter='\\t')\n",
    "s_genes = cc_genes['S'].dropna()\n",
    "g2m_genes = cc_genes['G2.M'].dropna()\n",
    "\n",
    "s_genes_mm = [gene.lower().capitalize() for gene in s_genes]\n",
    "g2m_genes_mm = [gene.lower().capitalize() for gene in g2m_genes]\n",
    "\n",
    "s_genes_mm_ens = expr_data.var_names[np.in1d(expr_data.var_names, s_genes_mm)]\n",
    "g2m_genes_mm_ens = expr_data.var_names[np.in1d(expr_data.var_names, g2m_genes_mm)]\n",
    "\n",
    "sc.tl.score_genes_cell_cycle(expr_data, s_genes=s_genes_mm_ens, g2m_genes=g2m_genes_mm_ens)\n",
    "sc.pl.umap(expr_data, color='phase', use_raw=False)"
   ]
  },
  {
   "cell_type": "markdown",
   "id": "a8563e54",
   "metadata": {
    "tags": []
   },
   "source": [
    "### Clustering"
   ]
  },
  {
   "cell_type": "code",
   "execution_count": null,
   "id": "8f5ceb11",
   "metadata": {},
   "outputs": [],
   "source": [
    "#expr_data_hvg.obs['Ngn3+'] = pd.Categorical(list(map(str,list(expr_data[:,'Neurog3'].X > 0))))\n",
    "#expr_data_hvg.obs\n",
    "# Perform clustering - using highly variable genes\n",
    "sc.tl.leiden(expr_data_hvg, resolution = 1.0, key_added='leiden_r1')\n",
    "sc.tl.leiden(expr_data_hvg, resolution = 0.5, key_added='leiden_r0.5')\n",
    "sc.tl.paga(expr_data_hvg, groups = 'leiden_r1')"
   ]
  },
  {
   "cell_type": "code",
   "execution_count": null,
   "id": "e7e7619a",
   "metadata": {},
   "outputs": [],
   "source": [
    "#Visualize the clustering and how this is reflected by different technical covariates\n",
    "sc.pl.umap(expr_data_hvg, color=['leiden_r1', 'leiden_r0.5'], legend_loc = 'on data', palette=sc.pl.palettes.default_28) # default_102"
   ]
  },
  {
   "cell_type": "code",
   "execution_count": null,
   "id": "7fc489db",
   "metadata": {},
   "outputs": [],
   "source": [
    "# PDX1, Fox A2 (HNF3β), Fox B2 (HNF6), HB9, Isl1, Ptf1a (p48), neurogenin 3, Beta2/NeuroD1, Nkx2.2, PAX4, PAX6, and Nkx6.1\n",
    "#expr_data.var[expr_data.var.index.str.match('Pdx1|Foxa2|Onecut1|Ptf1a|Mnx1|Isl1|Hnf1b')]\n",
    "sc.pl.paga(expr_data_hvg, color = 'leiden_r0.5')"
   ]
  },
  {
   "cell_type": "code",
   "execution_count": null,
   "id": "f59d24e3",
   "metadata": {
    "tags": []
   },
   "outputs": [],
   "source": [
    "sc.tl.rank_genes_groups(expr_data_hvg, groupby='leiden_r1', key_added='rank_genes_clusters')\n",
    "sc.pl.rank_genes_groups(expr_data_hvg, key='rank_genes_clusters', fontsize=12, ncols = 3)"
   ]
  },
  {
   "cell_type": "code",
   "execution_count": null,
   "id": "4e3d80d8",
   "metadata": {},
   "outputs": [],
   "source": [
    " #gp.get_library_name(database = 'Mouse')"
   ]
  },
  {
   "cell_type": "code",
   "execution_count": null,
   "id": "590892d4",
   "metadata": {
    "tags": []
   },
   "outputs": [],
   "source": [
    "enr_res = {}\n",
    "rank_gene_clusters = pd.DataFrame.from_records(expr_data_hvg.uns['rank_genes_clusters']['names'])\n",
    "\n",
    "for cl in rank_gene_clusters.columns.values:\n",
    "    print(\"Processing cluster \", cl)\n",
    "    enr_res[cl] = gp.enrichr(\n",
    "        gene_list = rank_gene_clusters[cl][:50].tolist(),\n",
    "        gene_sets = gene_markers, #\"pancreas/gsea/gene_markers.gmy\", #'GeneSigDB',\n",
    "        #organism = 'Mouse', # don't forget to set organism to the one you desired! e.g. Yeast\n",
    "        description='pancreas_mouse',\n",
    "        outdir='gsea/' + cl,\n",
    "        background = expr_data.var.shape[0],\n",
    "        # no_plot=True,\n",
    "        cutoff=0.5, # test dataset, use lower value from range(0,1)\n",
    "        verbose = True\n",
    "    )\n",
    "    display(enr_res[cl].res2d.sort_values('Adjusted P-value').head(n = 5))"
   ]
  },
  {
   "cell_type": "code",
   "execution_count": null,
   "id": "33f04644",
   "metadata": {},
   "outputs": [],
   "source": []
  },
  {
   "cell_type": "markdown",
   "id": "bdb477c4",
   "metadata": {
    "tags": []
   },
   "source": [
    "## Using velocity data"
   ]
  },
  {
   "cell_type": "code",
   "execution_count": null,
   "id": "8c39807b",
   "metadata": {},
   "outputs": [],
   "source": [
    "data_15_velo = scv.datasets.pancreas()\n",
    "display(data_15_velo)"
   ]
  },
  {
   "cell_type": "code",
   "execution_count": null,
   "id": "6ea361c4",
   "metadata": {},
   "outputs": [],
   "source": [
    "scv.pl.proportions(data_15_velo)"
   ]
  },
  {
   "cell_type": "code",
   "execution_count": null,
   "id": "16aa24b0",
   "metadata": {},
   "outputs": [],
   "source": [
    "scv.pp.filter_genes(data_15_velo, min_shared_counts = 20)\n",
    "scv.pp.normalize_per_cell(data_15_velo)\n",
    "scv.pp.filter_genes_dispersion(data_15_velo, n_top_genes = 3000)\n",
    "scv.pp.log1p(data_15_velo)\n",
    "sc.pp.highly_variable_genes(data_15_velo, min_mean = 0.0125, max_mean = 3, min_disp = 0.5)"
   ]
  },
  {
   "cell_type": "markdown",
   "id": "213e55ff",
   "metadata": {
    "tags": []
   },
   "source": [
    "### Clustering"
   ]
  },
  {
   "cell_type": "code",
   "execution_count": null,
   "id": "e2f3f86a",
   "metadata": {},
   "outputs": [],
   "source": [
    "#sc.pl.umap(data_15_velo, color = 'clusters')"
   ]
  },
  {
   "cell_type": "code",
   "execution_count": null,
   "id": "80c6787a",
   "metadata": {},
   "outputs": [],
   "source": [
    "sc.pp.neighbors(data_15_velo, n_neighbors=10, n_pcs=40)\n",
    "sc.tl.leiden(data_15_velo, resolution = 1.0, key_added = 'leiden_1')\n",
    "sc.tl.leiden(data_15_velo, resolution = 0.5, key_added = 'leiden_0.5')"
   ]
  },
  {
   "cell_type": "code",
   "execution_count": null,
   "id": "d10825d6",
   "metadata": {},
   "outputs": [],
   "source": [
    "fig, axes = plt.subplots(1, 4, figsize = (15, 5))\n",
    "sc.tl.paga(data_15_velo, groups = 'leiden_1')\n",
    "sc.pl.paga(data_15_velo, ax = axes[0], plot = False, show = False)  # remove `plot=False` if you want to see the coarse-grained graph\n",
    "sc.tl.umap(data_15_velo, init_pos='paga')\n",
    "sc.pl.umap(data_15_velo, color = 'clusters', legend_loc='on data', ax = axes[0], show = False)\n",
    "sc.pl.umap(data_15_velo, color = 'leiden_1', legend_loc='on data', ax = axes[1], show = False)\n",
    "sc.pl.paga(data_15_velo, color = 'leiden_1', ax = axes[2], show = False)\n",
    "sc.pl.umap(data_15_velo, color = 'leiden_0.5', legend_loc='on data', ax = axes[3], show = False)\n"
   ]
  },
  {
   "cell_type": "code",
   "execution_count": null,
   "id": "a39bbce8",
   "metadata": {},
   "outputs": [],
   "source": [
    "def umap_3d(adata, key_added = 'X_umap_3d'):\n",
    "    umap3d = sc.tl.umap(adata, n_components = 3, copy = True)\n",
    "    adata.obsm[key_added] = umap3d.obsm['X_umap']\n",
    "    logg.info(f\"Added {key_added} UMAP coordinates (adata.obsm)\")\n",
    "    \n",
    "umap_3d(data_15_velo)"
   ]
  },
  {
   "cell_type": "code",
   "execution_count": null,
   "id": "f5a88981",
   "metadata": {},
   "outputs": [],
   "source": [
    "#Show in 3D\n",
    "def plot_clust_3d(expr_data):\n",
    "    colors = matplotlib.rcParams[\"axes.prop_cycle\"]\n",
    "    groups = {'Ductal' : 0, 'Ngn3 low EP': 1, 'Ngn3 high EP': 2, 'Pre-endocrine': 3, 'Alpha': 4, 'Beta': 5, 'Delta': 5, 'Epsilon': 6}    \n",
    "    expr_umap = pd.DataFrame(expr_data.obsm['X_umap_3d'], columns = ['x', 'y', 'z'])\n",
    "    expr_umap['group'] = expr_data.obs['clusters'].values\n",
    "    fig = go.Figure(layout = dict(width = 1200, height = 800))\n",
    "    for g, ind in groups.items():\n",
    "        series_data = expr_umap[expr_umap.group == g]\n",
    "        fig.add_trace(go.Scatter3d(x = series_data.x, y = series_data.y, z = series_data.z, mode = 'markers', name = g,\n",
    "                                  marker = dict(size = 4, color = ind)))\n",
    "    fig.show()\n",
    "plot_clust_3d(data_15_velo)\n",
    "# Subclustering possible\n",
    "# sc.tl.leiden(adata, restrict_to=('leiden_r0.5', ['Enterocyte mature']), resolution=0.25, key_added='louvain_r0.5_entero_mat_sub')\n"
   ]
  },
  {
   "cell_type": "code",
   "execution_count": null,
   "id": "ec102a06",
   "metadata": {},
   "outputs": [],
   "source": []
  },
  {
   "cell_type": "code",
   "execution_count": null,
   "id": "2c05dfc8",
   "metadata": {
    "tags": []
   },
   "outputs": [],
   "source": [
    "sc.tl.rank_genes_groups(data_15_velo, groupby='clusters', key_added='rank_genes_clusters')\n",
    "sc.pl.rank_genes_groups(data_15_velo, key='rank_genes_clusters', fontsize=12, ncols = 3)"
   ]
  },
  {
   "cell_type": "code",
   "execution_count": null,
   "id": "ca757a30",
   "metadata": {
    "tags": []
   },
   "outputs": [],
   "source": [
    "fig, axes = plt.subplots(1, 2, figsize = (15, 5))\n",
    "sc.pl.rank_genes_groups_violin(data_15_velo, use_raw = True, key = 'rank_genes_clusters', groups = ['Ductal'],\n",
    "                               gene_names = data_15_velo.uns['rank_genes_clusters']['names']['Ductal'][:10],\n",
    "                               ax = axes[0], show = False)\n",
    "sc.pl.rank_genes_groups_violin(data_15_velo, use_raw = True, key = 'rank_genes_clusters', groups = ['Beta'],\n",
    "                               gene_names = data_15_velo.uns['rank_genes_clusters']['names']['Beta'][:10], \n",
    "                               ax = axes[1])"
   ]
  },
  {
   "cell_type": "code",
   "execution_count": null,
   "id": "182008c9",
   "metadata": {},
   "outputs": [],
   "source": [
    "sc.pl.rank_genes_groups_dotplot(data_15_velo, n_genes = 4, key='rank_genes_clusters')"
   ]
  },
  {
   "cell_type": "code",
   "execution_count": null,
   "id": "4da4a16e",
   "metadata": {},
   "outputs": [],
   "source": [
    "ax = plt.figure(figsize = (15, 5)).gca()\n",
    "gene_mask = np.in1d(\n",
    "    data_15_velo.uns['rank_genes_clusters']['names']['Ductal'],\n",
    "    panglao_gene_markers.loc[(panglao_gene_markers.cell_type == 'Ductal cells') & (panglao_gene_markers.organ == 'Pancreas'), 'gene'].str.lower().str.capitalize().values\n",
    ")\n",
    "sc.pl.rank_genes_groups_violin(data_15_velo, use_raw = True, key = 'rank_genes_clusters', groups = ['Ductal'],\n",
    "                               gene_names = data_15_velo.uns['rank_genes_clusters']['names']['Ductal'][gene_mask], ax = ax)\n",
    "#display(panglao_gene_markers[(panglao_gene_markers.cell_type == 'Ductal cells') & (panglao_gene_markers.organ == 'Pancreas')])"
   ]
  },
  {
   "cell_type": "code",
   "execution_count": null,
   "id": "ee47e6fe",
   "metadata": {},
   "outputs": [],
   "source": [
    "ax = plt.figure(figsize = (15, 5)).gca()\n",
    "gene_mask = np.in1d(\n",
    "    data_15_velo.uns['rank_genes_clusters']['names']['Beta'],\n",
    "    panglao_gene_markers.loc[(panglao_gene_markers.cell_type == 'Beta cells') & (panglao_gene_markers.organ == 'Pancreas'), 'gene'].str.lower().str.capitalize().values\n",
    ")\n",
    "sc.pl.rank_genes_groups_violin(data_15_velo, use_raw = True, key = 'rank_genes_clusters', groups = ['Beta'],\n",
    "                               gene_names = data_15_velo.uns['rank_genes_clusters']['names']['Beta'][gene_mask], ax = ax)"
   ]
  },
  {
   "cell_type": "code",
   "execution_count": null,
   "id": "886e3bc4",
   "metadata": {},
   "outputs": [],
   "source": [
    "marker_genes_dict = {'Ductal': ['Spp1', 'Dbi'], 'Ngn3 low EP' : ['Sparc', 'Mgst1', 'Sox9'], 'Ngn3 high EP' : ['Neurog3', 'Btbd17', 'Mdk'], \n",
    "                     'Pre-endocrine': ['Map1b', 'Fev'], 'Alpha':['Cpe', 'Tmem27'], 'Beta' : ['Pcsk2',  'Pdx1', 'Ins1', 'Ins2'], 'Delta': ['Rbp4', 'Pyy'], 'Epsilon': ['Ghrl', 'Isl1']}\n",
    "ax = sc.pl.heatmap(data_15_velo, marker_genes_dict, groupby='clusters', cmap='viridis', dendrogram=True) #, standard_scale = 'obs'"
   ]
  },
  {
   "cell_type": "code",
   "execution_count": null,
   "id": "58c6aad0",
   "metadata": {},
   "outputs": [],
   "source": [
    "ax = sc.pl.tracksplot(data_15_velo, marker_genes_dict, groupby='clusters', dendrogram=True)"
   ]
  },
  {
   "cell_type": "code",
   "execution_count": null,
   "id": "b744ad8e",
   "metadata": {},
   "outputs": [],
   "source": [
    "#Visualize some markers\n",
    "sc.pl.umap(data_15_velo, color = ['Ins1'])"
   ]
  },
  {
   "cell_type": "code",
   "execution_count": null,
   "id": "831e12f0",
   "metadata": {},
   "outputs": [],
   "source": []
  },
  {
   "cell_type": "markdown",
   "id": "e25ac321",
   "metadata": {
    "tags": []
   },
   "source": [
    "### Compute velocity (fast)"
   ]
  },
  {
   "cell_type": "code",
   "execution_count": null,
   "id": "3debaf4e",
   "metadata": {},
   "outputs": [],
   "source": [
    "scv.pp.moments(data_15_velo, n_pcs = 30, n_neighbors = 30)\n",
    "scv.tl.velocity(data_15_velo)"
   ]
  },
  {
   "cell_type": "code",
   "execution_count": null,
   "id": "a90834b4",
   "metadata": {},
   "outputs": [],
   "source": [
    "scv.tl.velocity_graph(data_15_velo)"
   ]
  },
  {
   "cell_type": "code",
   "execution_count": null,
   "id": "f8da5f66",
   "metadata": {
    "tags": []
   },
   "outputs": [],
   "source": [
    "scv.pl.velocity_embedding_stream(data_15_velo, basis='umap')"
   ]
  },
  {
   "cell_type": "code",
   "execution_count": null,
   "id": "1fa16aa5",
   "metadata": {
    "tags": []
   },
   "outputs": [],
   "source": [
    "scv.pl.velocity_embedding(data_15_velo, arrow_length = 10, arrow_size = 2, dpi = 150)"
   ]
  },
  {
   "cell_type": "markdown",
   "id": "ff8c0995",
   "metadata": {},
   "source": [
    "### Compute velocity(dynamic)"
   ]
  },
  {
   "cell_type": "code",
   "execution_count": null,
   "id": "f82ec357",
   "metadata": {},
   "outputs": [],
   "source": [
    "scv.pp.moments(data_15_velo, n_pcs = 30, n_neighbors = 30)\n",
    "scv.tl.recover_dynamics(data_15_velo, n_jobs = 8)\n",
    "scv.tl.velocity(data_15_velo, mode='dynamical')\n",
    "scv.tl.velocity_graph(data_15_velo)"
   ]
  },
  {
   "cell_type": "code",
   "execution_count": null,
   "id": "d2bdf8dc",
   "metadata": {},
   "outputs": [],
   "source": [
    "#data_15_velo.write('data/pancreas.h5ad', compression='gzip')\n",
    "#data_15_velo = scv.read('data/pancreas.h5ad')"
   ]
  },
  {
   "cell_type": "code",
   "execution_count": null,
   "id": "8242d036",
   "metadata": {},
   "outputs": [],
   "source": [
    "scv.pl.velocity_embedding_stream(data_15_velo, basis='umap')"
   ]
  },
  {
   "cell_type": "code",
   "execution_count": null,
   "id": "ddd42fe6",
   "metadata": {},
   "outputs": [],
   "source": [
    "scv.pl.velocity_embedding(data_15_velo, arrow_length = 10, arrow_size = 2, dpi = 200)"
   ]
  },
  {
   "cell_type": "code",
   "execution_count": null,
   "id": "5782ea48",
   "metadata": {},
   "outputs": [],
   "source": [
    "umap_3d(data_15_velo)"
   ]
  },
  {
   "cell_type": "code",
   "execution_count": null,
   "id": "47bd2743",
   "metadata": {},
   "outputs": [],
   "source": [
    "#print(data_15_velo.obsm_keys())\n",
    "scv.tl.velocity_embedding(data_15_velo, basis = 'umap_3d')\n",
    "display(data_15_velo.obsm['velocity_umap_3d'])\n"
   ]
  },
  {
   "cell_type": "code",
   "execution_count": null,
   "id": "e2ebb18a",
   "metadata": {},
   "outputs": [],
   "source": [
    "#Show in 3D\n",
    "def plot_clust_3d(expr_data):\n",
    "    colors = matplotlib.rcParams[\"axes.prop_cycle\"]\n",
    "    groups = {'Ductal' : 0, 'Ngn3 low EP': 1, 'Ngn3 high EP': 2, 'Pre-endocrine': 3, 'Alpha': 4, 'Beta': 5, 'Delta': 5, 'Epsilon': 6}    \n",
    "    expr_umap = pd.DataFrame(expr_data.obsm['X_umap_3d'], columns = ['x', 'y', 'z'])\n",
    "    expr_umap['group'] = expr_data.obs['clusters'].values\n",
    "    expr_umap_vel = pd.DataFrame(expr_data.obsm['velocity_umap_3d'], columns = ['u', 'v', 'w'])\n",
    "    expr_umap = pd.concat([expr_umap, expr_umap_vel], axis = 1)\n",
    "#     display(expr_umap)\n",
    "    fig = go.Figure(layout = dict(width = 1200, height = 800))\n",
    "    for g, ind in groups.items():\n",
    "        series_data = expr_umap[expr_umap.group == g]\n",
    "        fig.add_trace(go.Scatter3d(x = series_data.x, y = series_data.y, z = series_data.z, mode = 'markers', name = g,\n",
    "                                  marker = dict(size = 4, color = ind)))\n",
    "        fig.add_trace(go.Cone(x = series_data.x, y = series_data.y, z = series_data.z, u = series_data.u, v = series_data.v, w = series_data.w,\n",
    "                                   sizemode = \"absolute\", sizeref = 0.1))\n",
    "    fig.show()\n",
    "plot_clust_3d(data_15_velo)"
   ]
  },
  {
   "cell_type": "code",
   "execution_count": null,
   "id": "a435d728",
   "metadata": {},
   "outputs": [],
   "source": [
    "scv.pl.velocity(data_15_velo, ['Cpe',  'Gnao1', 'Ins2', 'Adk'], ncols = 2)"
   ]
  },
  {
   "cell_type": "code",
   "execution_count": null,
   "id": "5dbff8d9",
   "metadata": {},
   "outputs": [],
   "source": [
    "scv.tl.score_genes_cell_cycle(data_15_velo)\n",
    "scv.pl.scatter(data_15_velo, color_gradients=['S_score', 'G2M_score'], smooth=True, perc=[5, 95])"
   ]
  },
  {
   "cell_type": "code",
   "execution_count": null,
   "id": "08c20bef",
   "metadata": {},
   "outputs": [],
   "source": [
    "scv.tl.velocity_confidence(data_15_velo)\n",
    "keys = 'velocity_length', 'velocity_confidence'\n",
    "scv.pl.scatter(data_15_velo, c=keys, cmap='coolwarm', perc=[5, 95])"
   ]
  },
  {
   "cell_type": "code",
   "execution_count": null,
   "id": "4ebf2d60",
   "metadata": {},
   "outputs": [],
   "source": [
    "x, y = scv.utils.get_cell_transitions(data_15_velo, basis='umap', starting_cell=70)\n",
    "ax = scv.pl.velocity_graph(data_15_velo, c='lightgrey', edge_width=.05, show=False)\n",
    "ax = scv.pl.scatter(data_15_velo, x=x, y=y, s=120, c='ascending', cmap='gnuplot', ax=ax)"
   ]
  },
  {
   "cell_type": "code",
   "execution_count": null,
   "id": "959b9cfe",
   "metadata": {},
   "outputs": [],
   "source": [
    "x, y = scv.utils.get_cell_transitions(data_15_velo, basis='umap', starting_cell = 70, n_steps = 200)\n",
    "ax = scv.pl.velocity_graph(data_15_velo, c='lightgrey', edge_width=.05, show=False)\n",
    "ax = scv.pl.scatter(data_15_velo, x=x, y=y, s=120, c='ascending', cmap='gnuplot', ax=ax)"
   ]
  },
  {
   "cell_type": "code",
   "execution_count": null,
   "id": "712e2f11",
   "metadata": {},
   "outputs": [],
   "source": [
    "scv.tl.latent_time(data_15_velo)\n",
    "scv.pl.scatter(data_15_velo, color='latent_time', color_map='gnuplot', size=80)"
   ]
  },
  {
   "cell_type": "markdown",
   "id": "d27826b7",
   "metadata": {
    "tags": [],
    "toc-hr-collapsed": true
   },
   "source": [
    "## Imputation & Denoising"
   ]
  },
  {
   "cell_type": "code",
   "execution_count": null,
   "id": "ef1b270e",
   "metadata": {},
   "outputs": [],
   "source": [
    "data_15_velo = scv.datasets.pancreas()\n",
    "scv.pp.filter_genes(data_15_velo, min_shared_counts = 20)\n",
    "data_15_velo.raw = data_15_velo\n"
   ]
  },
  {
   "cell_type": "code",
   "execution_count": null,
   "id": "09f2c7da",
   "metadata": {},
   "outputs": [],
   "source": [
    "# fig, axes = plt.subplots(1, 2, figsize = (15, 5))\n",
    "# axes[0].hist(gene_max, bins = 50, log = True, range = (0, 500))\n",
    "# axes[0].set_title(\"Max cell count distribution per gene\")\n",
    "# axes[1].hist(tf_max, bins = 50, log = True, range = (0, 100))\n",
    "# axes[1].set_title(\"Max cell count distribution per TF\")\n",
    "# cnt_threshold = 0 \n",
    "# print(f\"Gene Count > {cnt_threshold}: {gene_max[gene_max > cnt_threshold].shape[0]}, TF count > {cnt_threshold}: {tf_max[tf_max > cnt_threshold].shape[0]}\", )\n",
    "# cnt_threshold = 10\n",
    "# print(f\"Gene Count > {cnt_threshold}: {gene_max[gene_max > cnt_threshold].shape[0]}, TF count > {cnt_threshold}: {tf_max[tf_max > cnt_threshold].shape[0]}\", )\n",
    "# cnt_threshold = 20\n",
    "# print(f\"Gene Count > {cnt_threshold}: {gene_max[gene_max > cnt_threshold].shape[0]}, TF count > {cnt_threshold}: {tf_max[tf_max > cnt_threshold].shape[0]}\", )\n",
    "# print(\"TF: \", tf_names[tf_max >= 20])\n",
    "# cnt_threshold = 40\n",
    "# print(f\"Gene Count > {cnt_threshold}: {gene_max[gene_max > cnt_threshold].shape[0]}, TF count > {cnt_threshold}: {tf_max[tf_max > cnt_threshold].shape[0]}\", )\n",
    "# cnt_threshold = 100\n",
    "# print(f\"Gene Count > {cnt_threshold}: {gene_max[gene_max > cnt_threshold].shape[0]}, TF count > {cnt_threshold}: {tf_max[tf_max > cnt_threshold].shape[0]}\", )\n",
    "# cnt_threshold = 200\n",
    "# print(f\"Gene Count > {cnt_threshold}: {gene_max[gene_max > cnt_threshold].shape[0]}, TF count > {cnt_threshold}: {tf_max[tf_max > cnt_threshold].shape[0]}\", )\n",
    "# print(\"Genes: \", data_15_velo.var.index.values[gene_max > 200])"
   ]
  },
  {
   "cell_type": "code",
   "execution_count": null,
   "id": "0a320e62",
   "metadata": {
    "tags": []
   },
   "outputs": [],
   "source": [
    "#sc.external.pp.dca(data_15_velo, optimizer = 'Adam', verbose = True)"
   ]
  },
  {
   "cell_type": "code",
   "execution_count": null,
   "id": "14a01831",
   "metadata": {},
   "outputs": [],
   "source": [
    "# Keep only the transcription factors present in the filtered dataset\n",
    "# tf_mouse = data_15_velo.var.index[np.in1d(data_15_velo.var.index, tf_mouse)].values\n",
    "# print(len(tf_mouse))"
   ]
  },
  {
   "cell_type": "code",
   "execution_count": null,
   "id": "3f0db812",
   "metadata": {},
   "outputs": [],
   "source": [
    "# fig, axes = plt.subplots(25, 4, figsize = (15, 100))\n",
    "# for i in range(100):\n",
    "#     #tf1 = tf_mouse[np.random.randint(len(tf_mouse))]\n",
    "#     tf1 = tf_mouse[i]\n",
    "#     ax = axes.flatten()[i]\n",
    "#     ax.plot(data_15_velo.raw[traj1, [tf1]].X.toarray().flatten(), 'r', label = 'Raw')\n",
    "#     ax.plot(data_15_velo[traj1, tf1].X, 'g', label = 'Smoothed')\n",
    "#     ax.set_title(tf1)\n",
    "#     ax.legend()\n"
   ]
  },
  {
   "cell_type": "code",
   "execution_count": null,
   "id": "ddf712b9",
   "metadata": {},
   "outputs": [],
   "source": [
    "from scipy.sparse import csr_matrix\n",
    "data_tf = data_15_velo[:, tf_mouse].copy()\n",
    "data_tf.X = csr_matrix(data_tf.X)\n",
    "sc.tl.rank_genes_groups(data_tf, groupby='clusters', use_raw = False, key_added='rank_tf_clusters')"
   ]
  },
  {
   "cell_type": "code",
   "execution_count": null,
   "id": "d210bdc5",
   "metadata": {
    "tags": []
   },
   "outputs": [],
   "source": [
    "fig, axes = plt.subplots(4, 2, figsize = (15, 40))\n",
    "\n",
    "groups = ['Ductal', 'Ngn3 low EP', 'Ngn3 high EP', 'Pre-endocrine', 'Alpha', 'Beta', 'Delta', 'Epsilon']\n",
    "for i in range(8):\n",
    "    ax = axes.flatten()[i]\n",
    "    group = groups[i]\n",
    "    sc.pl.rank_genes_groups_violin(data_tf, key = 'rank_tf_clusters', groups = group,\n",
    "                                   gene_names = data_tf.uns['rank_tf_clusters']['names'][group][:20],\n",
    "                                   ax = ax, show = False)"
   ]
  },
  {
   "cell_type": "code",
   "execution_count": null,
   "id": "6c16df0e",
   "metadata": {
    "tags": []
   },
   "outputs": [],
   "source": [
    "groups = ['Ductal', 'Ngn3 low EP', 'Ngn3 high EP', 'Pre-endocrine', 'Alpha', 'Beta', 'Delta', 'Epsilon']\n",
    "top_tf = []\n",
    "for g in groups: \n",
    "    top_tf = top_tf + data_tf.uns['rank_tf_clusters']['names'][g][:10].tolist()\n",
    "sc.pl.heatmap(data_15_velo, var_names = top_tf, groupby = 'clusters', swap_axes = True, figsize = (10, 15), show_gene_labels=True, log = True)"
   ]
  },
  {
   "cell_type": "code",
   "execution_count": null,
   "id": "5fd6a7a0",
   "metadata": {},
   "outputs": [],
   "source": [
    "#data_tf[data_tf.obs.clusters == 'Ngn3 low EP', 'Neurog3'].X.max()\n",
    "data_tf.X.max()"
   ]
  },
  {
   "cell_type": "code",
   "execution_count": null,
   "id": "02e36618",
   "metadata": {},
   "outputs": [],
   "source": [
    "top_genes = data_15_velo.var['fit_likelihood'].sort_values(ascending=False).index[:300]\n",
    "scv.pl.heatmap(data_15_velo, var_names = top_genes, sortby = 'latent_time', \n",
    "               col_color = 'clusters', n_convolve=100 , figsize = (7, 20))"
   ]
  },
  {
   "cell_type": "code",
   "execution_count": null,
   "id": "f6a996c7",
   "metadata": {},
   "outputs": [],
   "source": [
    "data_15_velo"
   ]
  },
  {
   "cell_type": "code",
   "execution_count": null,
   "id": "ad2e3746",
   "metadata": {},
   "outputs": [],
   "source": []
  },
  {
   "cell_type": "markdown",
   "id": "c697c269",
   "metadata": {
    "heading_collapsed": "true",
    "tags": []
   },
   "source": [
    "## Transcription factor analysis"
   ]
  },
  {
   "cell_type": "code",
   "execution_count": null,
   "id": "6cc4096d",
   "metadata": {},
   "outputs": [],
   "source": [
    "# #Visualize the clustering and how this is reflected by different technical covariates\n",
    "# sc.pl.umap(adata, color=['louvain_r1', 'louvain_r0.5'], palette=sc.pl.palettes.default_64)\n"
   ]
  },
  {
   "cell_type": "code",
   "execution_count": null,
   "id": "844cf92c",
   "metadata": {},
   "outputs": [],
   "source": [
    "# Get transcription factors from TRRUST\n",
    "tf_mouse_interactions = pd.read_csv(\"../../../external/trrustv2/trrust_rawdata.mouse.tsv\", sep = \"\\t\", header = None, names = [\"TF1\", \"TF2\", \"Effect\", \"Reference\"])\n",
    "tf_mouse = set(tf_mouse_interactions[\"TF1\"]) #.union(set(tf_mouse_interactions[\"TF2\"]))\n",
    "tf_mouse = list(tf_mouse)\n",
    "tf_mouse.sort()\n",
    "#print(tf_mouse)\n",
    "expr_tf = data_15_velo[:, np.in1d(data_15_velo.var.index, tf_mouse)]\n",
    "expr_tf.obs['latent_time'] = data_15_velo.obs['latent_time']\n",
    "expr_tf"
   ]
  },
  {
   "cell_type": "code",
   "execution_count": null,
   "id": "721cb377",
   "metadata": {},
   "outputs": [],
   "source": [
    "data_15_velo"
   ]
  },
  {
   "cell_type": "code",
   "execution_count": null,
   "id": "862876a7",
   "metadata": {},
   "outputs": [],
   "source": [
    "# #sc.pl.umap(data_15_velo, color=['Neurog3', 'Sox9'])\n",
    "# #sc.pl.umap(data_15_velo, color=['Hnf1b'])\n",
    "# # sc.pl.umap(data_15_velo, color=['Mnx1', 'Isl1'])\n",
    "# # sc.pl.umap(data_15_velo, color=['Cpa1', 'Neurog3', 'Ins1'])\n",
    "# X = scv.utils.get_cell_transitions(data_15_velo, starting_cell = 70, n_steps = 200)\n",
    "# print(X)\n",
    "# tf_names = ['Neurog3', 'Cpa1', 'Nkx2.2']\n",
    "# tf_indices = data_15_velo.var.index.get_indexer(tf_names)\n",
    "# #data_15_velo.X\n",
    "# tf_levels = data_15_velo.X[X, :][:, tf_indices].toarray()\n",
    "# #print(tf_levels)\n",
    "# #plt.plot()\n",
    "# fig, axes = plt.subplots(1, 2, figsize = (15, 5))\n",
    "# axes[0].plot(tf_levels)\n",
    "# scv.pl.velocity_graph(data_15_velo, c='lightgrey', edge_width=.05, show=False, ax = axes[1])\n",
    "# scv.pl.scatter(data_15_velo, x=x, y=y, s=120, c='ascending', cmap='gnuplot', ax = axes[1])\n",
    "top_genes = expr_tf.var['fit_likelihood'].sort_values(ascending=False)\n",
    "scv.pl.heatmap(data_15_velo, var_names = top_genes.index[:300], sortby = 'latent_time', \n",
    "               col_color = 'clusters', figsize = (7, 40), colorbar = True)\n",
    "# tg = data_15_velo.var['fit_likelihood'].sort_values(ascending=False)\n",
    "# tg = tg[~np.isnan(tg)]\n",
    "# tg[:300]"
   ]
  },
  {
   "cell_type": "code",
   "execution_count": null,
   "id": "34eec5fb",
   "metadata": {},
   "outputs": [],
   "source": []
  },
  {
   "cell_type": "code",
   "execution_count": null,
   "id": "6bf76fb6",
   "metadata": {},
   "outputs": [],
   "source": [
    "def show_points_umap(ax, data, ids, color):\n",
    "    cells_umap = data.obsm['X_umap'][ids, :]\n",
    "    scv.pl.scatter(data, x = cells_umap[:, 0], y = cells_umap[:, 1], s = 120, ax = ax, color = color, show = False)\n",
    "    \n",
    "def follow_trajectories(expr_data, t_start, t_end):\n",
    "    stp = (t_end - t_start) / 10\n",
    "    start_sel = (expr_data.obs['latent_time'] >= t_start - stp/2) & (expr_data.obs['latent_time'] < t_start + stp/2)\n",
    "    start_cells_data = expr_data[start_sel, :]\n",
    "    start_cells_umap = start_cells_data.obsm['X_umap']\n",
    "    start_cells = np.arange(expr_data.obs.shape[0])[start_sel]\n",
    "    next_cells = np.zeros(start_cells.shape[0], dtype = \"int32\")\n",
    "    print(start_cells)\n",
    "    for i in range(len(start_cells)):\n",
    "        next_cells [i] = scv.utils.get_cell_transitions(data_15_velo, starting_cell = start_cells[i], n_steps = 1)[1]\n",
    "    print(next_cells)\n",
    "    \n",
    "    fig, axes = plt.subplots(1, 2, figsize = (15, 5))\n",
    "#     axes[0].plot(tf_levels)\n",
    "    #scv.pl.velocity_graph(data_15_velo, c = 'lightgrey', edge_width=.05, show=False, ax = axes[1])\n",
    "    scv.pl.velocity_embedding(data_15_velo, arrow_length = 10, arrow_size = 2, ax = axes[1], show = False)\n",
    "    show_points_umap(axes[1], data_15_velo, start_cells, 'red')\n",
    "    show_points_umap(axes[1], data_15_velo, next_cells, 'black')\n",
    "#     scv.pl.scatter(data_15_velo, x = start_cells_umap[:, 0], y = start_cells_umap[:, 1], s = 120, ax = axes[1], color = 'red', cmap='gnuplot')\n",
    "#     scv.pl.scatter(data_15_velo, x = start_cells_umap[:, 0], y = start_cells_umap[:, 1], s = 120, ax = axes[1], color = 'green', cmap='gnuplot')\n",
    "    \n",
    "    \n",
    "follow_trajectories(data_15_velo, t_start = 0.3, t_end = 0.7)"
   ]
  },
  {
   "cell_type": "code",
   "execution_count": null,
   "id": "d166efb9",
   "metadata": {},
   "outputs": [],
   "source": [
    "# Get transcription factors from \n",
    "top_genes.index.str.match('Onecut1')"
   ]
  },
  {
   "cell_type": "code",
   "execution_count": null,
   "id": "485dc5a2",
   "metadata": {},
   "outputs": [],
   "source": [
    "def plot_distrib():\n",
    "    rnd_gene = np.random.randint(expr_data.X.shape[1])\n",
    "    data = expr_data.X[:, rnd_gene].toarray()\n",
    "    data = data[data > 0]\n",
    "    print(data)\n",
    "    sns.histplot(data).set_title(expr_data.var.index[rnd_gene])\n",
    "plot_distrib()"
   ]
  },
  {
   "cell_type": "markdown",
   "id": "b5569302",
   "metadata": {
    "tags": [],
    "toc-hr-collapsed": true
   },
   "source": [
    "## Further steps"
   ]
  },
  {
   "cell_type": "markdown",
   "id": "9a8ba0c6",
   "metadata": {},
   "source": [
    "### Single cell RNA-seq denoising using a deep count autoencoder\n",
    "\n",
    "- Paper: https://www.biorxiv.org/content/10.1101/300681v1\n",
    "- Code: https://github.com/qiaochen/VeloRep\n",
    "- Network architecture: https://github.com/qiaochen/VeloRep/blob/e7840bad413a3cc171c1039d29bd70db96274438/veloproj/util.py\n",
    "\n",
    "<img src=\"https://www.biorxiv.org/content/biorxiv/early/2021/03/20/2021.03.19.436127/F1.large.jpg?width=800&height=600&carousel=1\" width=700 />\n",
    "\n",
    "- Encoder:\n",
    "  - conventional encoder\n",
    "  - multi-layer perceptrons with 1 hidden layer\n",
    "  - graph convolutional network module (cohort aggregation, KNN)\n",
    "- Decoder\n",
    "  - Attentive combination module\n",
    "  \n"
   ]
  },
  {
   "cell_type": "markdown",
   "id": "b34aea36",
   "metadata": {
    "heading_collapsed": "true"
   },
   "source": [
    "### Representation learning of RNA velocity reveals robust cell transitions\n",
    "\n",
    "- Paper: https://www.biorxiv.org/content/10.1101/2021.03.19.436127v1.full"
   ]
  },
  {
   "cell_type": "code",
   "execution_count": null,
   "id": "9d8b825d",
   "metadata": {},
   "outputs": [],
   "source": [
    "import scanpy.external as sce\n",
    "import scvelo as scv\n",
    "data_15_velo = scv.datasets.pancreas()\n",
    "display(data_15_velo)"
   ]
  },
  {
   "cell_type": "code",
   "execution_count": null,
   "id": "129830d1",
   "metadata": {},
   "outputs": [],
   "source": [
    "# Must install dca via: pip install dca\n",
    "sce.pp.dca(data_15_velo)"
   ]
  },
  {
   "cell_type": "code",
   "execution_count": null,
   "id": "18a87eea",
   "metadata": {},
   "outputs": [],
   "source": []
  }
 ],
 "metadata": {
  "kernelspec": {
   "display_name": "Python 3",
   "language": "python",
   "name": "python3"
  },
  "language_info": {
   "codemirror_mode": {
    "name": "ipython",
    "version": 3
   },
   "file_extension": ".py",
   "mimetype": "text/x-python",
   "name": "python",
   "nbconvert_exporter": "python",
   "pygments_lexer": "ipython3",
   "version": "3.8.8"
  }
 },
 "nbformat": 4,
 "nbformat_minor": 5
}
