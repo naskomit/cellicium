{
 "cells": [
  {
   "cell_type": "markdown",
   "id": "c4b59887",
   "metadata": {},
   "source": [
    "## Human Liver"
   ]
  },
  {
   "cell_type": "markdown",
   "id": "c14eb5f9",
   "metadata": {},
   "source": [
    "## Studies\n",
    "\n",
    "### Study 1\n",
    "\n",
    "- Human Cell Atlas: https://data.humancellatlas.org/explore/projects/4d6f6c96-2a83-43d8-8fe1-0f53bffd4674\n",
    "- GEO: https://www.ncbi.nlm.nih.gov/geo/query/acc.cgi?acc=GSE115469\n",
    "- Paper: [Single cell RNA sequencing of human liver reveals distinct intrahepatic macrophage populations](https://www.nature.com/articles/s41467-018-06318-7)\n",
    "- European Nucleotide Archive (bam files): https://www.ebi.ac.uk/ena/browser/view/PRJNA475114\n",
    "- Single Cell Expression Atlas: https://www.ebi.ac.uk/gxa/sc/experiments/E-HCAD-9\n",
    "\n",
    "### Study 2\n",
    "\n"
   ]
  }
 ],
 "metadata": {
  "kernelspec": {
   "display_name": "Python 3",
   "language": "python",
   "name": "python3"
  },
  "language_info": {
   "codemirror_mode": {
    "name": "ipython",
    "version": 3
   },
   "file_extension": ".py",
   "mimetype": "text/x-python",
   "name": "python",
   "nbconvert_exporter": "python",
   "pygments_lexer": "ipython3",
   "version": "3.8.8"
  }
 },
 "nbformat": 4,
 "nbformat_minor": 5
}
