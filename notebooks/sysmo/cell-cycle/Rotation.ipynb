{
 "cells": [
  {
   "cell_type": "code",
   "execution_count": 14,
   "id": "b2578b6f",
   "metadata": {},
   "outputs": [],
   "source": [
    "import numpy as np\n",
    "import pandas as pd\n",
    "import matplotlib.pyplot as plt\n",
    "\n",
    "from IPython.display import display, Latex, Math\n",
    "from IPython.core.interactiveshell import InteractiveShell"
   ]
  },
  {
   "cell_type": "code",
   "execution_count": 15,
   "id": "6dda7f26",
   "metadata": {},
   "outputs": [],
   "source": [
    "sh = InteractiveShell.instance()\n",
    "\n",
    "def number_to_str (n, cut = 5):\n",
    "    ns = str (n)\n",
    "    format_ =\"{0:.\" + str (cut) + \"f}\"\n",
    "    if \"e\" in ns or (\".\" in ns and len (ns)>cut + 1):\n",
    "        return format_.format (n)\n",
    "    else:\n",
    "        return str (n)\n",
    "    \n",
    "def matrix_to_latex (mat, style = \"bmatrix\"):\n",
    "    if type (mat) == np.matrixlib.defmatrix.matrix:\n",
    "        mat=mat.a\n",
    "    head=r\"\\begin {\" + style + \"}\"\n",
    "    tail=r\"\\end {\" + style + \"}\"\n",
    "    if len (mat.shape) == 1:\n",
    "        body=r\"\\\\\". join ([str (el) for el in mat])\n",
    "        return head + body + tail\n",
    "    elif len (mat.shape) == 2:\n",
    "        lines=[]\n",
    "        for row in mat:\n",
    "            lines.append (\"&\". join ([number_to_str (el) for el in row]) + r\"\\\\\")\n",
    "    s=head + \"\" .join (lines) + tail\n",
    "    return s\n",
    "    return none\n",
    "\n",
    "def matrix_to_pandas(m):\n",
    "    return pd.DataFrame(m)\n",
    "\n",
    "#sh.display_formatter.formatters [\"text/latex\"].type_printers [np.ndarray] = matrix_to_latex\n",
    "\n",
    "def print_mat(o):\n",
    "    type_printers = {\n",
    "        np.ndarray: matrix_to_latex\n",
    "    }\n",
    "    #printer = type_printers[type(o)]\n",
    "    #display(Math(printer(o)))\n",
    "    display(matrix_to_pandas(o))"
   ]
  },
  {
   "cell_type": "code",
   "execution_count": 16,
   "id": "f74d3834",
   "metadata": {},
   "outputs": [
    {
     "data": {
      "text/html": [
       "<div>\n",
       "<style scoped>\n",
       "    .dataframe tbody tr th:only-of-type {\n",
       "        vertical-align: middle;\n",
       "    }\n",
       "\n",
       "    .dataframe tbody tr th {\n",
       "        vertical-align: top;\n",
       "    }\n",
       "\n",
       "    .dataframe thead th {\n",
       "        text-align: right;\n",
       "    }\n",
       "</style>\n",
       "<table border=\"1\" class=\"dataframe\">\n",
       "  <thead>\n",
       "    <tr style=\"text-align: right;\">\n",
       "      <th></th>\n",
       "      <th>0</th>\n",
       "      <th>1</th>\n",
       "      <th>2</th>\n",
       "      <th>3</th>\n",
       "      <th>4</th>\n",
       "    </tr>\n",
       "  </thead>\n",
       "  <tbody>\n",
       "    <tr>\n",
       "      <th>0</th>\n",
       "      <td>0.0</td>\n",
       "      <td>1.0</td>\n",
       "      <td>0.0</td>\n",
       "      <td>0.0</td>\n",
       "      <td>0.0</td>\n",
       "    </tr>\n",
       "    <tr>\n",
       "      <th>1</th>\n",
       "      <td>-1.0</td>\n",
       "      <td>0.0</td>\n",
       "      <td>0.0</td>\n",
       "      <td>0.0</td>\n",
       "      <td>0.0</td>\n",
       "    </tr>\n",
       "    <tr>\n",
       "      <th>2</th>\n",
       "      <td>0.0</td>\n",
       "      <td>0.0</td>\n",
       "      <td>0.0</td>\n",
       "      <td>0.0</td>\n",
       "      <td>0.0</td>\n",
       "    </tr>\n",
       "    <tr>\n",
       "      <th>3</th>\n",
       "      <td>0.0</td>\n",
       "      <td>0.0</td>\n",
       "      <td>0.0</td>\n",
       "      <td>0.0</td>\n",
       "      <td>0.0</td>\n",
       "    </tr>\n",
       "    <tr>\n",
       "      <th>4</th>\n",
       "      <td>0.0</td>\n",
       "      <td>0.0</td>\n",
       "      <td>0.0</td>\n",
       "      <td>0.0</td>\n",
       "      <td>0.0</td>\n",
       "    </tr>\n",
       "  </tbody>\n",
       "</table>\n",
       "</div>"
      ],
      "text/plain": [
       "     0    1    2    3    4\n",
       "0  0.0  1.0  0.0  0.0  0.0\n",
       "1 -1.0  0.0  0.0  0.0  0.0\n",
       "2  0.0  0.0  0.0  0.0  0.0\n",
       "3  0.0  0.0  0.0  0.0  0.0\n",
       "4  0.0  0.0  0.0  0.0  0.0"
      ]
     },
     "metadata": {},
     "output_type": "display_data"
    }
   ],
   "source": [
    "def create_omega_matrix(N = 3):\n",
    "    Omega = np.zeros((N, N))\n",
    "    Omega[0, 1] = 1\n",
    "    Omega[1, 0] = -1\n",
    "    return Omega\n",
    "    \n",
    "W = create_omega_matrix(5)\n",
    "print_mat(W)"
   ]
  },
  {
   "cell_type": "code",
   "execution_count": 17,
   "id": "49d57d9c",
   "metadata": {},
   "outputs": [
    {
     "name": "stdout",
     "output_type": "stream",
     "text": [
      "1.4142135623730951\n",
      "[0.+1.j 0.-1.j 0.+0.j 0.+0.j 0.+0.j]\n"
     ]
    },
    {
     "data": {
      "text/html": [
       "<div>\n",
       "<style scoped>\n",
       "    .dataframe tbody tr th:only-of-type {\n",
       "        vertical-align: middle;\n",
       "    }\n",
       "\n",
       "    .dataframe tbody tr th {\n",
       "        vertical-align: top;\n",
       "    }\n",
       "\n",
       "    .dataframe thead th {\n",
       "        text-align: right;\n",
       "    }\n",
       "</style>\n",
       "<table border=\"1\" class=\"dataframe\">\n",
       "  <thead>\n",
       "    <tr style=\"text-align: right;\">\n",
       "      <th></th>\n",
       "      <th>0</th>\n",
       "      <th>1</th>\n",
       "      <th>2</th>\n",
       "      <th>3</th>\n",
       "      <th>4</th>\n",
       "    </tr>\n",
       "  </thead>\n",
       "  <tbody>\n",
       "    <tr>\n",
       "      <th>0</th>\n",
       "      <td>0.707107+0.000000j</td>\n",
       "      <td>0.707107-0.000000j</td>\n",
       "      <td>0.0+0.0j</td>\n",
       "      <td>0.0+0.0j</td>\n",
       "      <td>0.0+0.0j</td>\n",
       "    </tr>\n",
       "    <tr>\n",
       "      <th>1</th>\n",
       "      <td>0.000000+0.707107j</td>\n",
       "      <td>0.000000-0.707107j</td>\n",
       "      <td>0.0+0.0j</td>\n",
       "      <td>0.0+0.0j</td>\n",
       "      <td>0.0+0.0j</td>\n",
       "    </tr>\n",
       "    <tr>\n",
       "      <th>2</th>\n",
       "      <td>0.000000+0.000000j</td>\n",
       "      <td>0.000000-0.000000j</td>\n",
       "      <td>1.0+0.0j</td>\n",
       "      <td>0.0+0.0j</td>\n",
       "      <td>0.0+0.0j</td>\n",
       "    </tr>\n",
       "    <tr>\n",
       "      <th>3</th>\n",
       "      <td>0.000000+0.000000j</td>\n",
       "      <td>0.000000-0.000000j</td>\n",
       "      <td>0.0+0.0j</td>\n",
       "      <td>1.0+0.0j</td>\n",
       "      <td>0.0+0.0j</td>\n",
       "    </tr>\n",
       "    <tr>\n",
       "      <th>4</th>\n",
       "      <td>0.000000+0.000000j</td>\n",
       "      <td>0.000000-0.000000j</td>\n",
       "      <td>0.0+0.0j</td>\n",
       "      <td>0.0+0.0j</td>\n",
       "      <td>1.0+0.0j</td>\n",
       "    </tr>\n",
       "  </tbody>\n",
       "</table>\n",
       "</div>"
      ],
      "text/plain": [
       "                    0                   1         2         3         4\n",
       "0  0.707107+0.000000j  0.707107-0.000000j  0.0+0.0j  0.0+0.0j  0.0+0.0j\n",
       "1  0.000000+0.707107j  0.000000-0.707107j  0.0+0.0j  0.0+0.0j  0.0+0.0j\n",
       "2  0.000000+0.000000j  0.000000-0.000000j  1.0+0.0j  0.0+0.0j  0.0+0.0j\n",
       "3  0.000000+0.000000j  0.000000-0.000000j  0.0+0.0j  1.0+0.0j  0.0+0.0j\n",
       "4  0.000000+0.000000j  0.000000-0.000000j  0.0+0.0j  0.0+0.0j  1.0+0.0j"
      ]
     },
     "metadata": {},
     "output_type": "display_data"
    }
   ],
   "source": [
    "e_val, e_vec = np.linalg.eig(W)\n",
    "print(np.linalg.norm(W))\n",
    "print(e_val)\n",
    "print_mat(e_vec)"
   ]
  },
  {
   "cell_type": "code",
   "execution_count": 18,
   "id": "63bb2400",
   "metadata": {},
   "outputs": [],
   "source": [
    "A1 = np.random.random([5, 5])\n",
    "B1, _ = np.linalg.qr(A1)"
   ]
  },
  {
   "cell_type": "code",
   "execution_count": 19,
   "id": "4842f73f",
   "metadata": {},
   "outputs": [
    {
     "data": {
      "text/html": [
       "<div>\n",
       "<style scoped>\n",
       "    .dataframe tbody tr th:only-of-type {\n",
       "        vertical-align: middle;\n",
       "    }\n",
       "\n",
       "    .dataframe tbody tr th {\n",
       "        vertical-align: top;\n",
       "    }\n",
       "\n",
       "    .dataframe thead th {\n",
       "        text-align: right;\n",
       "    }\n",
       "</style>\n",
       "<table border=\"1\" class=\"dataframe\">\n",
       "  <thead>\n",
       "    <tr style=\"text-align: right;\">\n",
       "      <th></th>\n",
       "      <th>0</th>\n",
       "      <th>1</th>\n",
       "      <th>2</th>\n",
       "      <th>3</th>\n",
       "      <th>4</th>\n",
       "    </tr>\n",
       "  </thead>\n",
       "  <tbody>\n",
       "    <tr>\n",
       "      <th>0</th>\n",
       "      <td>-0.355838</td>\n",
       "      <td>0.045568</td>\n",
       "      <td>0.102668</td>\n",
       "      <td>0.778466</td>\n",
       "      <td>0.504730</td>\n",
       "    </tr>\n",
       "    <tr>\n",
       "      <th>1</th>\n",
       "      <td>-0.683339</td>\n",
       "      <td>-0.309313</td>\n",
       "      <td>0.422599</td>\n",
       "      <td>-0.020422</td>\n",
       "      <td>-0.508297</td>\n",
       "    </tr>\n",
       "    <tr>\n",
       "      <th>2</th>\n",
       "      <td>-0.171399</td>\n",
       "      <td>-0.130840</td>\n",
       "      <td>-0.839206</td>\n",
       "      <td>0.299138</td>\n",
       "      <td>-0.399692</td>\n",
       "    </tr>\n",
       "    <tr>\n",
       "      <th>3</th>\n",
       "      <td>-0.318359</td>\n",
       "      <td>0.928961</td>\n",
       "      <td>-0.034552</td>\n",
       "      <td>-0.090038</td>\n",
       "      <td>-0.162416</td>\n",
       "    </tr>\n",
       "    <tr>\n",
       "      <th>4</th>\n",
       "      <td>-0.525069</td>\n",
       "      <td>-0.148869</td>\n",
       "      <td>-0.324668</td>\n",
       "      <td>-0.544044</td>\n",
       "      <td>0.548405</td>\n",
       "    </tr>\n",
       "  </tbody>\n",
       "</table>\n",
       "</div>"
      ],
      "text/plain": [
       "          0         1         2         3         4\n",
       "0 -0.355838  0.045568  0.102668  0.778466  0.504730\n",
       "1 -0.683339 -0.309313  0.422599 -0.020422 -0.508297\n",
       "2 -0.171399 -0.130840 -0.839206  0.299138 -0.399692\n",
       "3 -0.318359  0.928961 -0.034552 -0.090038 -0.162416\n",
       "4 -0.525069 -0.148869 -0.324668 -0.544044  0.548405"
      ]
     },
     "metadata": {},
     "output_type": "display_data"
    }
   ],
   "source": [
    "print_mat(B1)"
   ]
  },
  {
   "cell_type": "code",
   "execution_count": 20,
   "id": "6e7651b2",
   "metadata": {},
   "outputs": [
    {
     "data": {
      "text/html": [
       "<div>\n",
       "<style scoped>\n",
       "    .dataframe tbody tr th:only-of-type {\n",
       "        vertical-align: middle;\n",
       "    }\n",
       "\n",
       "    .dataframe tbody tr th {\n",
       "        vertical-align: top;\n",
       "    }\n",
       "\n",
       "    .dataframe thead th {\n",
       "        text-align: right;\n",
       "    }\n",
       "</style>\n",
       "<table border=\"1\" class=\"dataframe\">\n",
       "  <thead>\n",
       "    <tr style=\"text-align: right;\">\n",
       "      <th></th>\n",
       "      <th>0</th>\n",
       "      <th>1</th>\n",
       "      <th>2</th>\n",
       "      <th>3</th>\n",
       "      <th>4</th>\n",
       "    </tr>\n",
       "  </thead>\n",
       "  <tbody>\n",
       "    <tr>\n",
       "      <th>0</th>\n",
       "      <td>5.122549e-18</td>\n",
       "      <td>1.412038e-01</td>\n",
       "      <td>-8.021990e-02</td>\n",
       "      <td>5.392229e-01</td>\n",
       "      <td>5.257736e-01</td>\n",
       "    </tr>\n",
       "    <tr>\n",
       "      <th>1</th>\n",
       "      <td>-1.412038e-01</td>\n",
       "      <td>-1.072317e-19</td>\n",
       "      <td>5.101362e-02</td>\n",
       "      <td>2.398589e-01</td>\n",
       "      <td>1.329574e-01</td>\n",
       "    </tr>\n",
       "    <tr>\n",
       "      <th>2</th>\n",
       "      <td>8.021990e-02</td>\n",
       "      <td>-5.101362e-02</td>\n",
       "      <td>6.173404e-19</td>\n",
       "      <td>-3.310758e-01</td>\n",
       "      <td>-2.654846e-01</td>\n",
       "    </tr>\n",
       "    <tr>\n",
       "      <th>3</th>\n",
       "      <td>-5.392229e-01</td>\n",
       "      <td>-2.398589e-01</td>\n",
       "      <td>3.310758e-01</td>\n",
       "      <td>5.606215e-19</td>\n",
       "      <td>-3.853847e-01</td>\n",
       "    </tr>\n",
       "    <tr>\n",
       "      <th>4</th>\n",
       "      <td>-5.257736e-01</td>\n",
       "      <td>-1.329574e-01</td>\n",
       "      <td>2.654846e-01</td>\n",
       "      <td>3.853847e-01</td>\n",
       "      <td>-8.498308e-18</td>\n",
       "    </tr>\n",
       "  </tbody>\n",
       "</table>\n",
       "</div>"
      ],
      "text/plain": [
       "              0             1             2             3             4\n",
       "0  5.122549e-18  1.412038e-01 -8.021990e-02  5.392229e-01  5.257736e-01\n",
       "1 -1.412038e-01 -1.072317e-19  5.101362e-02  2.398589e-01  1.329574e-01\n",
       "2  8.021990e-02 -5.101362e-02  6.173404e-19 -3.310758e-01 -2.654846e-01\n",
       "3 -5.392229e-01 -2.398589e-01  3.310758e-01  5.606215e-19 -3.853847e-01\n",
       "4 -5.257736e-01 -1.329574e-01  2.654846e-01  3.853847e-01 -8.498308e-18"
      ]
     },
     "metadata": {},
     "output_type": "display_data"
    }
   ],
   "source": [
    "#print_mat(np.dot(B1, B1.T))\n",
    "#print_mat(np.dot(B1.T, B1))\n",
    "W1 = np.dot(np.dot(B1.T, W), B1)\n",
    "print_mat(W1)"
   ]
  },
  {
   "cell_type": "code",
   "execution_count": 21,
   "id": "1ca49ad8",
   "metadata": {},
   "outputs": [],
   "source": [
    "e1_val, e1_vec = np.linalg.eig(W1)"
   ]
  },
  {
   "cell_type": "code",
   "execution_count": 22,
   "id": "f17c51f9",
   "metadata": {},
   "outputs": [
    {
     "name": "stdout",
     "output_type": "stream",
     "text": [
      "[ 0.00000000e+00+1.00000000e+00j  0.00000000e+00-1.00000000e+00j\n",
      " -3.18096916e-17+7.68448735e-17j -3.18096916e-17-7.68448735e-17j\n",
      "  9.08396150e-18+0.00000000e+00j]\n"
     ]
    },
    {
     "data": {
      "text/html": [
       "<div>\n",
       "<style scoped>\n",
       "    .dataframe tbody tr th:only-of-type {\n",
       "        vertical-align: middle;\n",
       "    }\n",
       "\n",
       "    .dataframe tbody tr th {\n",
       "        vertical-align: top;\n",
       "    }\n",
       "\n",
       "    .dataframe thead th {\n",
       "        text-align: right;\n",
       "    }\n",
       "</style>\n",
       "<table border=\"1\" class=\"dataframe\">\n",
       "  <thead>\n",
       "    <tr style=\"text-align: right;\">\n",
       "      <th></th>\n",
       "      <th>0</th>\n",
       "      <th>1</th>\n",
       "      <th>2</th>\n",
       "      <th>3</th>\n",
       "      <th>4</th>\n",
       "    </tr>\n",
       "  </thead>\n",
       "  <tbody>\n",
       "    <tr>\n",
       "      <th>0</th>\n",
       "      <td>-0.238858-0.489626j</td>\n",
       "      <td>-0.238858+0.489626j</td>\n",
       "      <td>-0.146725+0.347723j</td>\n",
       "      <td>-0.146725-0.347723j</td>\n",
       "      <td>0.132865+0.000000j</td>\n",
       "    </tr>\n",
       "    <tr>\n",
       "      <th>1</th>\n",
       "      <td>0.037946-0.217797j</td>\n",
       "      <td>0.037946+0.217797j</td>\n",
       "      <td>0.741528+0.000000j</td>\n",
       "      <td>0.741528-0.000000j</td>\n",
       "      <td>0.420219+0.000000j</td>\n",
       "    </tr>\n",
       "    <tr>\n",
       "      <th>2</th>\n",
       "      <td>0.064736+0.300624j</td>\n",
       "      <td>0.064736-0.300624j</td>\n",
       "      <td>0.012717+0.212459j</td>\n",
       "      <td>0.012717-0.212459j</td>\n",
       "      <td>0.824282+0.000000j</td>\n",
       "    </tr>\n",
       "    <tr>\n",
       "      <th>3</th>\n",
       "      <td>0.550648+0.000000j</td>\n",
       "      <td>0.550648-0.000000j</td>\n",
       "      <td>0.046892+0.328033j</td>\n",
       "      <td>0.046892-0.328033j</td>\n",
       "      <td>-0.241593+0.000000j</td>\n",
       "    </tr>\n",
       "    <tr>\n",
       "      <th>4</th>\n",
       "      <td>0.366201-0.349937j</td>\n",
       "      <td>0.366201+0.349937j</td>\n",
       "      <td>-0.245299-0.304008j</td>\n",
       "      <td>-0.245299+0.304008j</td>\n",
       "      <td>0.260682+0.000000j</td>\n",
       "    </tr>\n",
       "  </tbody>\n",
       "</table>\n",
       "</div>"
      ],
      "text/plain": [
       "                    0                   1                   2  \\\n",
       "0 -0.238858-0.489626j -0.238858+0.489626j -0.146725+0.347723j   \n",
       "1  0.037946-0.217797j  0.037946+0.217797j  0.741528+0.000000j   \n",
       "2  0.064736+0.300624j  0.064736-0.300624j  0.012717+0.212459j   \n",
       "3  0.550648+0.000000j  0.550648-0.000000j  0.046892+0.328033j   \n",
       "4  0.366201-0.349937j  0.366201+0.349937j -0.245299-0.304008j   \n",
       "\n",
       "                    3                   4  \n",
       "0 -0.146725-0.347723j  0.132865+0.000000j  \n",
       "1  0.741528-0.000000j  0.420219+0.000000j  \n",
       "2  0.012717-0.212459j  0.824282+0.000000j  \n",
       "3  0.046892-0.328033j -0.241593+0.000000j  \n",
       "4 -0.245299+0.304008j  0.260682+0.000000j  "
      ]
     },
     "metadata": {},
     "output_type": "display_data"
    }
   ],
   "source": [
    "print(e1_val)\n",
    "print_mat(e1_vec)"
   ]
  },
  {
   "cell_type": "code",
   "execution_count": 23,
   "id": "f722e775",
   "metadata": {},
   "outputs": [],
   "source": [
    "v1 = np.real(e1_vec[:, 0])\n",
    "v2 = np.imag(e1_vec[:, 0])"
   ]
  },
  {
   "cell_type": "code",
   "execution_count": 24,
   "id": "f15bde5c",
   "metadata": {},
   "outputs": [
    {
     "name": "stdout",
     "output_type": "stream",
     "text": [
      "[ 7.06863598e-01 -1.85433114e-02 -1.38777878e-16  2.77555756e-17\n",
      " -5.55111512e-17]\n",
      "[ 1.85433114e-02  7.06863598e-01 -5.55111512e-17 -4.85722573e-17\n",
      " -1.11022302e-16]\n"
     ]
    }
   ],
   "source": [
    "print(np.dot(B1, v1))\n",
    "print(np.dot(B1, v2))"
   ]
  },
  {
   "cell_type": "code",
   "execution_count": 25,
   "id": "bb040c11",
   "metadata": {},
   "outputs": [
    {
     "data": {
      "text/plain": [
       "array([ 0., -1.,  0.,  0.,  0.])"
      ]
     },
     "execution_count": 25,
     "metadata": {},
     "output_type": "execute_result"
    }
   ],
   "source": [
    "np.dot(W, [1, 0, 0, 0, 0])"
   ]
  },
  {
   "cell_type": "code",
   "execution_count": 26,
   "id": "c53ffe21",
   "metadata": {},
   "outputs": [
    {
     "data": {
      "text/plain": [
       "array([-1.,  0.,  0.,  0.,  0.])"
      ]
     },
     "execution_count": 26,
     "metadata": {},
     "output_type": "execute_result"
    }
   ],
   "source": [
    "np.dot(W, [0, -1, 0, 0, 0])"
   ]
  },
  {
   "cell_type": "code",
   "execution_count": null,
   "id": "c0a9f01d",
   "metadata": {},
   "outputs": [],
   "source": []
  }
 ],
 "metadata": {
  "kernelspec": {
   "display_name": "Python 3.8 (XPython)",
   "language": "python",
   "name": "xpython"
  },
  "language_info": {
   "file_extension": ".py",
   "mimetype": "text/x-python",
   "name": "python",
   "version": "3.8.10"
  }
 },
 "nbformat": 4,
 "nbformat_minor": 5
}
