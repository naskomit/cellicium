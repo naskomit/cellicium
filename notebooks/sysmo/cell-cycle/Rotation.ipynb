{
 "cells": [
  {
   "cell_type": "code",
   "execution_count": null,
   "id": "ed7e1e02",
   "metadata": {},
   "outputs": [],
   "source": [
    "import numpy as np\n",
    "import pandas as pd\n",
    "import matplotlib.pyplot as plt\n",
    "\n",
    "from IPython.display import display, Latex, Math\n",
    "from IPython.core.interactiveshell import InteractiveShell"
   ]
  },
  {
   "cell_type": "code",
   "execution_count": null,
   "id": "e96bcf55",
   "metadata": {},
   "outputs": [],
   "source": [
    "sh = InteractiveShell.instance()\n",
    "\n",
    "def number_to_str (n, cut = 5):\n",
    "    ns = str (n)\n",
    "    format_ =\"{0:.\" + str (cut) + \"f}\"\n",
    "    if \"e\" in ns or (\".\" in ns and len (ns)>cut + 1):\n",
    "        return format_.format (n)\n",
    "    else:\n",
    "        return str (n)\n",
    "    \n",
    "def matrix_to_latex (mat, style = \"bmatrix\"):\n",
    "    if type (mat) == np.matrixlib.defmatrix.matrix:\n",
    "        mat=mat.a\n",
    "    head=r\"\\begin {\" + style + \"}\"\n",
    "    tail=r\"\\end {\" + style + \"}\"\n",
    "    if len (mat.shape) == 1:\n",
    "        body=r\"\\\\\". join ([str (el) for el in mat])\n",
    "        return head + body + tail\n",
    "    elif len (mat.shape) == 2:\n",
    "        lines=[]\n",
    "        for row in mat:\n",
    "            lines.append (\"&\". join ([number_to_str (el) for el in row]) + r\"\\\\\")\n",
    "    s=head + \"\" .join (lines) + tail\n",
    "    return s\n",
    "    return none\n",
    "\n",
    "#sh.display_formatter.formatters [\"text/latex\"].type_printers [np.ndarray] = matrix_to_latex\n",
    "\n",
    "def print_mat(o):\n",
    "    type_printers = {\n",
    "        np.ndarray: matrix_to_latex\n",
    "    }\n",
    "    printer = type_printers[type(o)]\n",
    "    display(Math(printer(o)))"
   ]
  },
  {
   "cell_type": "code",
   "execution_count": null,
   "id": "058c0aaf",
   "metadata": {},
   "outputs": [],
   "source": [
    "def create_omega_matrix(N = 3):\n",
    "    Omega = np.zeros((N, N))\n",
    "    Omega[0, 1] = 1\n",
    "    Omega[1, 0] = -1\n",
    "    return Omega\n",
    "    \n",
    "W = create_omega_matrix(5)\n",
    "print_mat(W)"
   ]
  },
  {
   "cell_type": "code",
   "execution_count": null,
   "id": "1e1562b5",
   "metadata": {},
   "outputs": [],
   "source": [
    "e_val, e_vec = np.linalg.eig(W)\n",
    "print(np.linalg.norm(W))\n",
    "print(e_val)\n",
    "print_mat(e_vec)"
   ]
  },
  {
   "cell_type": "code",
   "execution_count": null,
   "id": "70da1780",
   "metadata": {},
   "outputs": [],
   "source": [
    "A1 = np.random.random([5, 5])\n",
    "B1, _ = np.linalg.qr(A1)"
   ]
  },
  {
   "cell_type": "code",
   "execution_count": null,
   "id": "0479c5b4",
   "metadata": {},
   "outputs": [],
   "source": [
    "B1"
   ]
  },
  {
   "cell_type": "code",
   "execution_count": null,
   "id": "18ade181",
   "metadata": {},
   "outputs": [],
   "source": [
    "#print_mat(np.dot(B1, B1.T))\n",
    "#print_mat(np.dot(B1.T, B1))\n",
    "W1 = np.dot(np.dot(B1.T, W), B1)\n",
    "print_mat(W1)"
   ]
  },
  {
   "cell_type": "code",
   "execution_count": null,
   "id": "f1fdcdbc",
   "metadata": {},
   "outputs": [],
   "source": [
    "e1_val, e1_vec = np.linalg.eig(W1)"
   ]
  },
  {
   "cell_type": "code",
   "execution_count": null,
   "id": "d0d8fab3",
   "metadata": {},
   "outputs": [],
   "source": [
    "print(e1_val1)\n",
    "print_mat(e1_vec1)"
   ]
  },
  {
   "cell_type": "code",
   "execution_count": null,
   "id": "0005181f",
   "metadata": {},
   "outputs": [],
   "source": [
    "v1 = np.real(e1_vec1[:, 0])\n",
    "v2 = np.imag(e1_vec1[:, 0])"
   ]
  },
  {
   "cell_type": "code",
   "execution_count": null,
   "id": "e82a8c18",
   "metadata": {},
   "outputs": [],
   "source": [
    "print(np.dot(B1, v1))\n",
    "print(np.dot(B1, v2))"
   ]
  },
  {
   "cell_type": "code",
   "execution_count": null,
   "id": "4df2f8eb",
   "metadata": {},
   "outputs": [],
   "source": []
  }
 ],
 "metadata": {
  "kernelspec": {
   "display_name": "Python 3",
   "language": "python",
   "name": "python3"
  },
  "language_info": {
   "codemirror_mode": {
    "name": "ipython",
    "version": 3
   },
   "file_extension": ".py",
   "mimetype": "text/x-python",
   "name": "python",
   "nbconvert_exporter": "python",
   "pygments_lexer": "ipython3",
   "version": "3.8.8"
  }
 },
 "nbformat": 4,
 "nbformat_minor": 5
}
