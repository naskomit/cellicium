{
 "cells": [
  {
   "cell_type": "code",
   "execution_count": null,
   "id": "432d4254",
   "metadata": {},
   "outputs": [],
   "source": [
    "import numpy as np\n",
    "import pandas as pd\n",
    "import scanpy as sc\n",
    "import scanpy.external as sce\n",
    "import scanpy.logging as logg\n",
    "import scvelo as scv\n",
    "import matplotlib.pyplot as plt\n",
    "import seaborn as sb\n",
    "import gseapy as gp\n",
    "import plotly.graph_objects as go\n",
    "import scipy\n",
    "scv.settings.presenter_view = True  # set max width size for presenter view\n",
    "scv.settings.set_figure_params('scvelo')  # for beautified visualization\n",
    "plt.rcParams['figure.figsize']=(8,8) #rescale figures\n",
    "sc.settings.verbosity = 3\n",
    "# Matplotlib backwards compatibility hack\n",
    "import matplotlib\n",
    "matplotlib.cbook.iterable = np.iterable\n",
    "\n",
    "from IPython.display import display\n",
    "import vdom.helpers as vh\n",
    "\n",
    "import cellicium.develop as cdev\n",
    "import cellicium.sharedata as cdata\n",
    "import cellicium.scrna as crna"
   ]
  },
  {
   "cell_type": "markdown",
   "id": "278152c0",
   "metadata": {
    "tags": []
   },
   "source": [
    "## Dataset"
   ]
  },
  {
   "cell_type": "markdown",
   "id": "672203f0",
   "metadata": {
    "tags": []
   },
   "source": [
    "\n",
    "Source: \n",
    "- url: https://www.embopress.org/doi/full/10.15252/msb.20209946\n",
    "- title: The transcriptome dynamics of single cells during the cell cycle\n",
    "- authors: Daniel Schwabe, Sara Formichetti, Jan Philipp Junker, Martin Falcke, Nikolaus Rajewsky\n",
    "\n",
    "Data: GSE142277\n",
    "- Location: GSE142277/GSM4224315/GSM4224315_out_gene_exon_tagged.dge_exonssf002_WT.txt\n",
    "- Location: GSE142277/GSM4224315/GSM4224315_out_gene_exon_tagged.dge_intronssf002_WT.txt\n"
   ]
  },
  {
   "cell_type": "markdown",
   "id": "64a318d1",
   "metadata": {},
   "source": [
    "## Analysis"
   ]
  },
  {
   "cell_type": "markdown",
   "id": "ad5a063b",
   "metadata": {},
   "source": [
    "### Convert the data to AnnotatedData"
   ]
  },
  {
   "cell_type": "code",
   "execution_count": null,
   "id": "362e9ea3",
   "metadata": {},
   "outputs": [],
   "source": [
    "# cdev.reload_user_libs(cdata)\n",
    "# cdev.reload_user_libs(crna)\n",
    "# cdev.reload_user_libs(crna.tools)\n",
    "# cdev.reload_user_libs(crna.qc)"
   ]
  },
  {
   "cell_type": "code",
   "execution_count": null,
   "id": "26f8e258",
   "metadata": {},
   "outputs": [],
   "source": [
    "data_manager = cdata.dataset_manager()\n",
    "exons_file = data_manager.get_file(\"GSE142277/GSM4224315/GSM4224315_out_gene_exon_tagged.dge_exonssf002_WT.txt\")\n",
    "introns_file = data_manager.get_file(\"GSE142277/GSM4224315/GSM4224315_out_gene_exon_tagged.dge_intronssf002_WT.txt\")\n",
    "exons = sc.read_csv(exons_file, delimiter = \"\\t\").transpose()\n",
    "introns = sc.read_csv(introns_file, delimiter = \"\\t\").transpose()"
   ]
  },
  {
   "cell_type": "code",
   "execution_count": null,
   "id": "c5ace860",
   "metadata": {},
   "outputs": [],
   "source": [
    "adata = crna.tl.add_intron_data(exons, introns)\n",
    "adata.write('/home/jovyan/external/GSE142277/GSM4224315/GSM4224315.h5ad')"
   ]
  },
  {
   "cell_type": "markdown",
   "id": "0c6d517c",
   "metadata": {},
   "source": [
    "### Preprocess"
   ]
  },
  {
   "cell_type": "code",
   "execution_count": null,
   "id": "e76fba61",
   "metadata": {},
   "outputs": [],
   "source": [
    "adata = sc.read_h5ad(\"/home/jovyan/external/GSE142277/GSM4224315/GSM4224315.h5ad\")\n",
    "adata"
   ]
  },
  {
   "cell_type": "code",
   "execution_count": null,
   "id": "54805953",
   "metadata": {},
   "outputs": [],
   "source": [
    "crna.qc.qc_plots(adata)"
   ]
  },
  {
   "cell_type": "code",
   "execution_count": null,
   "id": "bbcdc292",
   "metadata": {},
   "outputs": [],
   "source": [
    "# Filter cells according to identified QC thresholds:\n",
    "print('Total number of cells: {:d}'.format(adata.n_obs))\n",
    "\n",
    "sc.pp.filter_cells(adata, min_counts = 1500)\n",
    "print('Number of cells after min count filter: {:d}'.format(adata.n_obs))\n",
    "\n",
    "sc.pp.filter_cells(adata, max_counts = 40000)\n",
    "print('Number of cells after max count filter: {:d}'.format(adata.n_obs))\n",
    "\n",
    "adata = adata[adata.obs['mt_frac'] < 0.2]\n",
    "print('Number of cells after MT filter: {:d}'.format(adata.n_obs))\n",
    "\n",
    "sc.pp.filter_cells(adata, min_genes = 700)\n",
    "print('Number of cells after gene filter: {:d}'.format(adata.n_obs))\n"
   ]
  },
  {
   "cell_type": "code",
   "execution_count": null,
   "id": "fbe26449",
   "metadata": {},
   "outputs": [],
   "source": [
    "crna.qc.qc_plots(adata)"
   ]
  },
  {
   "cell_type": "code",
   "execution_count": null,
   "id": "3422902a",
   "metadata": {},
   "outputs": [],
   "source": [
    "sc.pp.filter_genes(adata, min_counts = 20)\n",
    "sc.pp.filter_genes(adata, min_cells = 5)\n",
    "sc.pp.normalize_total(adata)\n",
    "sc.pp.log1p(adata)\n",
    "adata_all = adata.copy()\n",
    "sc.pp.highly_variable_genes(adata, n_top_genes = 3000)\n",
    "adata = adata[:, adata.var['highly_variable']]"
   ]
  },
  {
   "cell_type": "code",
   "execution_count": null,
   "id": "eb7cf8a1",
   "metadata": {},
   "outputs": [],
   "source": [
    "sc.pp.pca(adata)\n",
    "sc.pp.neighbors(adata, n_neighbors = 10, n_pcs = 50)\n",
    "#sc.tl.leiden(adata, resolution = 1.0, key_added = 'leiden_1')"
   ]
  },
  {
   "cell_type": "code",
   "execution_count": null,
   "id": "083c7438",
   "metadata": {},
   "outputs": [],
   "source": [
    "sc.tl.umap(adata, n_components = 3)\n",
    "sc.tl.diffmap(adata)"
   ]
  },
  {
   "cell_type": "code",
   "execution_count": null,
   "id": "0d503a5c",
   "metadata": {},
   "outputs": [],
   "source": [
    "scv.tl.score_genes_cell_cycle(adata)\n",
    "fig, axes = plt.subplots(1, 3, figsize = (15, 5))\n",
    "scv.pl.scatter(adata, color_gradients=['S_score', 'G2M_score'], basis = 'pca', smooth=True, perc=[5, 95], ax = axes[0], show = False)\n",
    "axes[0].set_title(\"PCA\")\n",
    "scv.pl.scatter(adata, color_gradients=['S_score', 'G2M_score'], basis = 'umap', smooth=True, perc=[5, 95], ax = axes[1], show = False)\n",
    "axes[1].set_title(\"UMAP\")\n",
    "scv.pl.scatter(adata, color_gradients=['S_score', 'G2M_score'], basis = 'diffmap', smooth=True, perc=[5, 95], ax = axes[2], show = False)\n",
    "axes[2].set_title(\"DiffMap\")"
   ]
  },
  {
   "cell_type": "code",
   "execution_count": null,
   "id": "81ab76ad",
   "metadata": {},
   "outputs": [],
   "source": [
    "crna.pl.plot_scatter_3d(adata, color_gradients = ['S_score', 'G2M_score'])"
   ]
  },
  {
   "cell_type": "markdown",
   "id": "28d5a4cf",
   "metadata": {},
   "source": [
    "## Computing velocity"
   ]
  },
  {
   "cell_type": "code",
   "execution_count": null,
   "id": "00453e59",
   "metadata": {
    "tags": []
   },
   "outputs": [],
   "source": [
    "scv.pp.moments(adata, n_pcs = 30, n_neighbors = 30)\n",
    "scv.tl.recover_dynamics(adata, n_jobs = 8)\n",
    "scv.tl.velocity(adata, mode='dynamical')\n",
    "scv.tl.velocity_graph(adata)"
   ]
  },
  {
   "cell_type": "code",
   "execution_count": null,
   "id": "fc9627e6",
   "metadata": {
    "tags": []
   },
   "outputs": [],
   "source": [
    "scv.pl.velocity_embedding(adata, color_gradients=['S_score', 'G2M_score'], basis = 'pca', arrow_length = 2, arrow_size = 1, dpi = 100)"
   ]
  },
  {
   "cell_type": "code",
   "execution_count": null,
   "id": "8d5685f5",
   "metadata": {},
   "outputs": [],
   "source": [
    "crna.pl.plot_arrows_3d(adata, arrows = 'velocity_pca', color_gradients = ['S_score', 'G2M_score'])"
   ]
  },
  {
   "cell_type": "code",
   "execution_count": null,
   "id": "c8fd3c75",
   "metadata": {
    "tags": []
   },
   "outputs": [],
   "source": [
    "cdev.reload_user_libs(crna.tl)\n",
    "W, b = crna.tl.find_rotational_plane(adata.obsm['X_pca'], adata.obsm['velocity_pca'], n_comp = 10)"
   ]
  },
  {
   "cell_type": "code",
   "execution_count": null,
   "id": "e428c476",
   "metadata": {
    "tags": []
   },
   "outputs": [],
   "source": [
    "e_val, e_vec = np.linalg.eig(W)\n",
    "display(e_val)\n",
    "display(np.abs(e_val))\n",
    "e_ind = 0\n",
    "display(e_vec[:, e_ind])\n",
    "display(np.abs(e_vec[:, e_ind]))\n",
    "display(np.dot(W, np.abs(e_vec[:, e_ind])))\n",
    "\n",
    "axis_dir = scipy.linalg.null_space([e_vec[:3, 0], e_vec[:3, 1]]).flatten()\n",
    "print(axis_dir)\n",
    "axis_dir = np.real(axis_dir)\n",
    "print(axis_dir)\n",
    "dc1_dir = np.array([0, axis_dir[2], -axis_dir[1]])\n",
    "dc2_dir = scipy.linalg.null_space([axis_dir, dc1_dir]).flatten()\n",
    "axis_dir = axis_dir / np.linalg.norm(axis_dir)\n",
    "dc1_dir = dc1_dir / np.linalg.norm(dc1_dir)\n",
    "dc2_dir = dc2_dir / np.linalg.norm(dc2_dir)\n",
    "print(dc1_dir)\n",
    "print(dc2_dir)"
   ]
  },
  {
   "cell_type": "code",
   "execution_count": null,
   "id": "9c31e90c",
   "metadata": {},
   "outputs": [],
   "source": [
    "fig, axes = plt.subplots(1, 4, figsize = (15, 5))\n",
    "hm0 = axes[0].imshow(W)\n",
    "fig.colorbar(hm0, ax = axes[0])\n",
    "hm1 = axes[1].imshow([b])\n",
    "fig.colorbar(hm1, ax = axes[1])\n",
    "hm2 = axes[2].imshow([np.abs(e_val)])\n",
    "fig.colorbar(hm2, ax = axes[2])\n",
    "dir_img = np.zeros((e_vec.shape[0], 3))\n",
    "dir_img[:3, 0] = axis_dir\n",
    "dir_img[:3, 1] = dc1_dir\n",
    "dir_img[:3, 2] = dc2_dir\n",
    "hm3 = axes[3].imshow(np.abs(np.hstack([e_vec[:, 0:3], dir_img])))\n",
    "fig.colorbar(hm3, ax = axes[3])"
   ]
  },
  {
   "cell_type": "code",
   "execution_count": null,
   "id": "0d23003d",
   "metadata": {},
   "outputs": [],
   "source": [
    "crna.pl.plot_arrows_3d(adata, arrows = 'velocity_pca', color_gradients = ['S_score', 'G2M_score'], directions = [10 * axis_dir, 10 * dc1_dir, 10 * dc2_dir])"
   ]
  },
  {
   "cell_type": "code",
   "execution_count": null,
   "id": "48d4f4d0",
   "metadata": {
    "tags": []
   },
   "outputs": [],
   "source": [
    "np.linalg.norm(dc2_dir)\n",
    "np.dot(adata.obsm['X_pca'][:, :3], np.array([dc1_dir, dc2_dir]).T)\n",
    "X_DC = np.dot(adata.obsm['X_pca'][:, :3] / np.linalg.norm(adata.obsm['X_pca'][:, :3], axis = 1).reshape(-1, 1), np.array([dc1_dir, dc2_dir, axis_dir]).T)\n",
    "# Here the transformation to pseudotime should be adjusted\n",
    "adata.obs['pseudo_t'] = np.mod(0.4 - np.arctan2(X_DC[:, 1], X_DC[:, 0]) / np.pi / 2, 1)\n",
    "adata.obs.sort_values(['pseudo_t'])"
   ]
  },
  {
   "cell_type": "code",
   "execution_count": null,
   "id": "9d582a1b",
   "metadata": {
    "tags": []
   },
   "outputs": [],
   "source": [
    "crna.pl.plot_scatter_3d(adata, color = ['pseudo_t'])"
   ]
  },
  {
   "cell_type": "code",
   "execution_count": null,
   "id": "fff3c983",
   "metadata": {},
   "outputs": [],
   "source": [
    "adata_all.obs['pseudo_t'] = adata.obs['pseudo_t']\n",
    "scv.tl.score_genes_cell_cycle(adata_all)\n",
    "scv.pl.scatter(adata_all, x = 'pseudo_t', y = ['S_score', 'G2M_score'])"
   ]
  },
  {
   "cell_type": "code",
   "execution_count": null,
   "id": "68d23ee0",
   "metadata": {},
   "outputs": [],
   "source": [
    "scv.pl.scatter(adata_all, x = 'pseudo_t', y = ['CCND3', 'CDK4', 'CDK6', 'CCNE2', 'CDK2', 'CCNA2', 'CDK1', 'CCNB1', 'CDC20'], color_gradients = ['S_score', 'G2M_score'])"
   ]
  },
  {
   "cell_type": "code",
   "execution_count": null,
   "id": "654dc9f3",
   "metadata": {},
   "outputs": [],
   "source": [
    "#scv.pl.heatmap(adata_all, var_names = ['CCND3', 'CDK4', 'CDK6', 'CCNE2', 'CDK2', 'CCNA2', 'CDK1', 'CCNB1', 'CDC20'], sortby = 'pseudo_t', n_convolve = 30, colorbar = True)\n",
    "scv.pl.heatmap(adata_all, var_names = ['CCND3', 'CCNE2', 'CCNA2', 'CCNB1'], sortby = 'pseudo_t', n_convolve = 30, colorbar = True, sort = False)\n",
    "scv.pl.heatmap(adata_all, var_names = ['CCND3', 'CCNE2', 'CCNA2', 'CCNB1'], sortby = 'pseudo_t', n_convolve = 30, colorbar = True, sort = False, xkey = 'unspliced')"
   ]
  },
  {
   "cell_type": "code",
   "execution_count": null,
   "id": "71059b7e",
   "metadata": {},
   "outputs": [],
   "source": [
    "scv.pl.scatter(adata, ['CCND3', 'CCNE2', 'CCNA2', 'CCNB1'], color = ['pseudo_t'])"
   ]
  },
  {
   "cell_type": "code",
   "execution_count": null,
   "id": "b2c9a313",
   "metadata": {},
   "outputs": [],
   "source": [
    "adata.obs"
   ]
  },
  {
   "cell_type": "code",
   "execution_count": null,
   "id": "729cfae8",
   "metadata": {},
   "outputs": [],
   "source": []
  }
 ],
 "metadata": {
  "kernelspec": {
   "display_name": "Python 3",
   "language": "python",
   "name": "python3"
  },
  "language_info": {
   "codemirror_mode": {
    "name": "ipython",
    "version": 3
   },
   "file_extension": ".py",
   "mimetype": "text/x-python",
   "name": "python",
   "nbconvert_exporter": "python",
   "pygments_lexer": "ipython3",
   "version": "3.8.8"
  }
 },
 "nbformat": 4,
 "nbformat_minor": 5
}
