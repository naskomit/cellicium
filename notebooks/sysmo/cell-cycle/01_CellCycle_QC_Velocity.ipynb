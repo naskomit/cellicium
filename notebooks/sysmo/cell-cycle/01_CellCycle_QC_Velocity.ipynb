{
 "cells": [
  {
   "cell_type": "code",
   "execution_count": null,
   "id": "7f9d33e6",
   "metadata": {},
   "outputs": [],
   "source": [
    "import numpy as np\n",
    "import pandas as pd\n",
    "import scanpy as sc\n",
    "import scanpy.external as sce\n",
    "import scanpy.logging as logg\n",
    "import scvelo as scv\n",
    "import matplotlib.pyplot as plt\n",
    "import seaborn as sb\n",
    "import gseapy as gp\n",
    "import plotly.graph_objects as go\n",
    "import scipy\n",
    "scv.settings.presenter_view = True  # set max width size for presenter view\n",
    "scv.settings.set_figure_params('scvelo')  # for beautified visualization\n",
    "sc.settings.verbosity = 3\n",
    "# Matplotlib backwards compatibility hack\n",
    "import matplotlib\n",
    "matplotlib.cbook.iterable = np.iterable\n",
    "\n",
    "from IPython.display import display\n",
    "import vdom.helpers as vh\n",
    "\n",
    "import cellicium.develop as cdev\n",
    "import cellicium.sharedata as cdata\n",
    "import cellicium.scrna as crna\n",
    "import cellicium.gene_sets as cgs\n",
    "# cdev.reload_user_libs(cdata)\n",
    "# cdev.reload_user_libs(crna)\n",
    "# cdev.reload_user_libs(crna.tools)\n",
    "# cdev.reload_user_libs(crna.qc)\n",
    "# cdev.reload_user_libs(cgs)\n",
    "gsm = cgs.GeneSetManager()"
   ]
  },
  {
   "cell_type": "markdown",
   "id": "f5954731",
   "metadata": {
    "tags": []
   },
   "source": [
    "## Dataset"
   ]
  },
  {
   "cell_type": "markdown",
   "id": "419591a0",
   "metadata": {
    "tags": []
   },
   "source": [
    "\n",
    "Source: \n",
    "- url: https://www.embopress.org/doi/full/10.15252/msb.20209946\n",
    "- title: The transcriptome dynamics of single cells during the cell cycle\n",
    "- authors: Daniel Schwabe, Sara Formichetti, Jan Philipp Junker, Martin Falcke, Nikolaus Rajewsky\n",
    "\n",
    "Data: GSE142277\n",
    "- Location: GSE142277/GSM4224315/GSM4224315_out_gene_exon_tagged.dge_exonssf002_WT.txt\n",
    "- Location: GSE142277/GSM4224315/GSM4224315_out_gene_exon_tagged.dge_intronssf002_WT.txt\n"
   ]
  },
  {
   "cell_type": "markdown",
   "id": "49cb141f",
   "metadata": {},
   "source": [
    "## Analysis"
   ]
  },
  {
   "cell_type": "markdown",
   "id": "f2ac298a",
   "metadata": {},
   "source": [
    "### Convert the data to AnnotatedData"
   ]
  },
  {
   "cell_type": "code",
   "execution_count": null,
   "id": "ee03e221",
   "metadata": {},
   "outputs": [],
   "source": [
    "# data_manager = cdata.dataset_manager()\n",
    "# exons_file = data_manager.get_file(\"GSE142277/GSM4224315/GSM4224315_out_gene_exon_tagged.dge_exonssf002_WT.txt\")\n",
    "# introns_file = data_manager.get_file(\"GSE142277/GSM4224315/GSM4224315_out_gene_exon_tagged.dge_intronssf002_WT.txt\")\n",
    "# exons = sc.read_csv(exons_file, delimiter = \"\\t\").transpose()\n",
    "# introns = sc.read_csv(introns_file, delimiter = \"\\t\").transpose()\n",
    "# adata = crna.tl.add_intron_data(exons, introns)\n",
    "# #adata.write('/home/jovyan/external/GSE142277/GSM4224315/GSM4224315.h5ad')\n",
    "# adata.write('/home/jovyan/notebooks/sysmo/cell-cycle/saved-data/GSM4224315.h5ad')"
   ]
  },
  {
   "cell_type": "markdown",
   "id": "182bf303",
   "metadata": {
    "tags": []
   },
   "source": [
    "### Preprocess"
   ]
  },
  {
   "cell_type": "code",
   "execution_count": null,
   "id": "5dd93aea",
   "metadata": {},
   "outputs": [],
   "source": [
    "#adata = sc.read_h5ad(\"/home/jovyan/external/GSE142277/GSM4224315/GSM4224315.h5ad\")\n",
    "adata = sc.read_h5ad('/home/jovyan/notebooks/sysmo/cell-cycle/saved-data/GSM4224315.h5ad')\n",
    "adata"
   ]
  },
  {
   "cell_type": "code",
   "execution_count": null,
   "id": "da091ab4",
   "metadata": {},
   "outputs": [],
   "source": [
    "crna.qc.qc_plots(adata)"
   ]
  },
  {
   "cell_type": "code",
   "execution_count": null,
   "id": "46fb7fdc",
   "metadata": {},
   "outputs": [],
   "source": [
    "# Filter cells according to identified QC thresholds:\n",
    "print('Total number of cells: {:d}'.format(adata.n_obs))\n",
    "\n",
    "sc.pp.filter_cells(adata, min_counts = 1500)\n",
    "print('Number of cells after min count filter: {:d}'.format(adata.n_obs))\n",
    "\n",
    "sc.pp.filter_cells(adata, max_counts = 40000)\n",
    "print('Number of cells after max count filter: {:d}'.format(adata.n_obs))\n",
    "\n",
    "adata = adata[adata.obs['mt_frac'] < 0.2]\n",
    "print('Number of cells after MT filter: {:d}'.format(adata.n_obs))\n",
    "\n",
    "sc.pp.filter_cells(adata, min_genes = 700)\n",
    "print('Number of cells after gene filter: {:d}'.format(adata.n_obs))\n"
   ]
  },
  {
   "cell_type": "code",
   "execution_count": null,
   "id": "b4eec179",
   "metadata": {},
   "outputs": [],
   "source": [
    "crna.qc.qc_plots(adata)"
   ]
  },
  {
   "cell_type": "markdown",
   "id": "94ae879b",
   "metadata": {},
   "source": [
    "Save the original counts in separate layers and then:\n",
    " - filter \n",
    " - normalize counts per cell\n",
    " - apply log transform\n",
    " - filter highly variable genes"
   ]
  },
  {
   "cell_type": "code",
   "execution_count": null,
   "id": "969a16da",
   "metadata": {},
   "outputs": [],
   "source": [
    "adata.layers['spliced_counts'] = adata.layers['spliced'].copy()\n",
    "adata.layers['unspliced_counts'] = adata.layers['unspliced'].copy()\n",
    "# sc.pp.filter_genes(adata, min_counts = 20)\n",
    "# sc.pp.filter_genes(adata, min_cells = 5)\n",
    "adata_all = adata.copy()\n",
    "scv.pp.filter_and_normalize(\n",
    "    adata, \n",
    "    min_counts = 20, min_cells = 5, log = True,\n",
    "    n_top_genes = 3000, subset_highly_variable = True\n",
    ")\n",
    "# sc.pp.normalize_total(adata)\n",
    "# sc.pp.log1p(adata)\n",
    "# sc.pp.highly_variable_genes(adata, n_top_genes = 3000)\n",
    "# adata = adata[:, adata.var['highly_variable']]"
   ]
  },
  {
   "cell_type": "markdown",
   "id": "c7e296ab",
   "metadata": {},
   "source": [
    "Apply PCA (50 components) and compute nearest neighbours"
   ]
  },
  {
   "cell_type": "code",
   "execution_count": null,
   "id": "ff25a92d",
   "metadata": {},
   "outputs": [],
   "source": [
    "sc.pp.pca(adata)\n",
    "sc.pp.neighbors(adata, n_neighbors = 10, n_pcs = 50)"
   ]
  },
  {
   "cell_type": "markdown",
   "id": "508d84fd",
   "metadata": {},
   "source": [
    "Compute reduced dimensional representation for visualization"
   ]
  },
  {
   "cell_type": "code",
   "execution_count": null,
   "id": "a69a3ad2",
   "metadata": {
    "tags": []
   },
   "outputs": [],
   "source": [
    "sc.tl.umap(adata, n_components = 3)\n",
    "sc.tl.diffmap(adata)"
   ]
  },
  {
   "cell_type": "markdown",
   "id": "64dd69ba",
   "metadata": {},
   "source": [
    "We use the `scvelo` built in function `score_genes_cell_cycle` to compute the likelihood of each cell being in S-Phase or G2M-Phase, based on marker gene expression. ([Macosko et al.](https://www.cell.com/fulltext/S0092-8674(15)00549-8))"
   ]
  },
  {
   "cell_type": "code",
   "execution_count": null,
   "id": "7f05703b",
   "metadata": {},
   "outputs": [],
   "source": [
    "scv.tl.score_genes_cell_cycle(adata)"
   ]
  },
  {
   "cell_type": "code",
   "execution_count": null,
   "id": "5d5fc3b5",
   "metadata": {},
   "outputs": [],
   "source": [
    "fig, axes = plt.subplots(1, 3, figsize = (15, 5))\n",
    "scv.pl.scatter(adata, color_gradients=['S_score', 'G2M_score'], basis = 'pca', smooth=True, perc=[5, 95], ax = axes[0], show = False)\n",
    "axes[0].set_title(\"PCA\")\n",
    "scv.pl.scatter(adata, color_gradients=['S_score', 'G2M_score'], basis = 'umap', smooth=True, perc=[5, 95], ax = axes[1], show = False)\n",
    "axes[1].set_title(\"UMAP\")\n",
    "scv.pl.scatter(adata, color_gradients=['S_score', 'G2M_score'], basis = 'diffmap', smooth=True, perc=[5, 95], ax = axes[2], show = False)\n",
    "axes[2].set_title(\"DiffMap\")"
   ]
  },
  {
   "cell_type": "markdown",
   "id": "36109181",
   "metadata": {},
   "source": [
    "It seems like even the PCA method separates well the cells based on the cycle phase. Here is the PCA with an extra dimension."
   ]
  },
  {
   "cell_type": "code",
   "execution_count": null,
   "id": "149e4b60",
   "metadata": {},
   "outputs": [],
   "source": [
    "crna.pl.plot_scatter_3d(adata, color_gradients = ['S_score', 'G2M_score'])"
   ]
  },
  {
   "cell_type": "markdown",
   "id": "5a2ba26c",
   "metadata": {},
   "source": [
    "As the authors of the original articles point out, the cell distribution can be approximated as a cylindrical surface in the space of the first 3 principle components. Unlike the autors, who analyze the data using cell cycle markers for determining the proper axis of the cylinder, we will try to analyze the manifold without using any prior knowledge about gene markers. For that person we will use the concept of RNA velocity as described in [Generalizing RNA velocity to transient cell states through dynamical modeling](https://www.nature.com/articles/s41587-020-0591-3)"
   ]
  },
  {
   "cell_type": "markdown",
   "id": "77c4b810",
   "metadata": {},
   "source": [
    "## Computing RNA velocity\n",
    "\n",
    "The `scvelo` library from Theiss lab is used to compute the gene dynamics"
   ]
  },
  {
   "cell_type": "code",
   "execution_count": null,
   "id": "ccf5651a",
   "metadata": {
    "tags": []
   },
   "outputs": [],
   "source": [
    "scv.pp.moments(adata, n_pcs = 50, n_neighbors = 30)\n",
    "scv.tl.recover_dynamics(adata, n_jobs = 8)\n",
    "scv.tl.velocity(adata, mode='dynamical')\n",
    "scv.tl.velocity_graph(adata)"
   ]
  },
  {
   "cell_type": "code",
   "execution_count": null,
   "id": "aed63293",
   "metadata": {},
   "outputs": [],
   "source": [
    "adata"
   ]
  },
  {
   "cell_type": "markdown",
   "id": "24a0f23c",
   "metadata": {},
   "source": [
    "Original: 1000 cells x 20000 genes\n",
    "QC: 700 cells x 10000 genes\n",
    "Normalizations....\n",
    "Highly variable genes: 700 cells x 3000 genes\n",
    "PCA: 700 cells x 50 components\n"
   ]
  },
  {
   "cell_type": "code",
   "execution_count": null,
   "id": "ecb629a0",
   "metadata": {},
   "outputs": [],
   "source": [
    "adata.obsm['X_pca'].shape"
   ]
  },
  {
   "cell_type": "markdown",
   "id": "c8932bf7",
   "metadata": {},
   "source": [
    "The velocity plot in 2D"
   ]
  },
  {
   "cell_type": "code",
   "execution_count": null,
   "id": "08f55955",
   "metadata": {
    "tags": []
   },
   "outputs": [],
   "source": [
    "scv.pl.velocity_embedding(adata, color_gradients=['S_score', 'G2M_score'], basis = 'pca', arrow_length = 2, arrow_size = 1, dpi = 100)"
   ]
  },
  {
   "cell_type": "markdown",
   "id": "1f4acea5",
   "metadata": {},
   "source": [
    "And in 3D"
   ]
  },
  {
   "cell_type": "code",
   "execution_count": null,
   "id": "117bbdd8",
   "metadata": {},
   "outputs": [],
   "source": [
    "crna.pl.plot_arrows_3d(adata, arrows = 'velocity_pca', color_gradients = ['S_score', 'G2M_score'])"
   ]
  },
  {
   "cell_type": "markdown",
   "id": "4a881ed7",
   "metadata": {
    "tags": []
   },
   "source": [
    "## Finding rotational parameters\n",
    "\n",
    "A motion on a cylindrical surface around the axis of the cylinder can be described as:\n",
    "\n",
    "$$V = W(X - X_0)$$\n",
    "\n",
    "where $X_0$ shifts the cylinder axis to pass through the origin, and $W$ is an \"angular velocity\" matrix, whose columns are orthogonal, has 2 purely imaginary eigenvalues and the rest of the eigenvalues are 0.\n",
    "\n",
    "Using tensorflow, we will approximate the matrix $W$ from the expression data and the RNA velocity:"
   ]
  },
  {
   "cell_type": "code",
   "execution_count": null,
   "id": "283c18ec",
   "metadata": {
    "tags": []
   },
   "outputs": [],
   "source": [
    "cdev.reload_user_libs(crna.tl)\n",
    "x_v_fit = crna.tl.fit_matrix(adata.obsm['X_pca'], adata.obsm['velocity_pca'], n_comp = 50)"
   ]
  },
  {
   "cell_type": "markdown",
   "id": "c4a6551f",
   "metadata": {},
   "source": [
    "We compute the eigenvalues of the matrix W. As expected, the first 2 eigenvalues have significantly higher abolute value than the following ones. Also, they have small real values, and thus are nearly imaginary. The eigenvectors corresponding to these eigenvalues are complex conjugate of each other. Because multiplication by $j$ corresponds to rotation of 90 degrees, the real and imaginary part of each eigenvectors should define perpendicular vectors in the plane of rotation. In reality they are 'almost' normal, so we ensure orthogonality. Taking for granted from the original paper, that the axis of rotation lies in the subspace defined by the first 3 PCs, we define the axis of rotation as the plane normal in this 3D space. (maybe this assumption should be revised later...)"
   ]
  },
  {
   "cell_type": "code",
   "execution_count": null,
   "id": "9e6da2da",
   "metadata": {
    "tags": []
   },
   "outputs": [],
   "source": [
    "W = x_v_fit['W']\n",
    "scaling_fct = np.abs(np.linalg.eig(W)[0][0])\n",
    "W = W / scaling_fct\n",
    "e_val, e_vec = np.linalg.eig(W)\n",
    "# print(e_val)\n",
    "# print('Eigenvalues (arg):')\n",
    "# print()\n",
    "with pd.option_context('display.float_format', '{:,.3f}'.format):\n",
    "    print('Eigenvalues')\n",
    "    display(pd.DataFrame(\n",
    "        {'Eigenvalues': e_val, 'Eigenvalues (arg)': np.angle(e_val) * 180 / np.pi,\n",
    "         'Eigenvalues (abs)': np.abs(e_val)}).iloc[:20, :].T)\n",
    "    print('First eigenvectors')\n",
    "    display(pd.DataFrame(e_vec[:20, :20]).T)\n",
    "# print(e_vec[:, 0])\n",
    "# print(e_vec[:, 1])\n",
    "plt.plot(np.abs(e_val), '.')\n",
    "plt.legend('Eigenvalues (abs):')\n",
    "\n",
    "dc1_dir = np.real(e_vec[:, 0])\n",
    "dc1_dir /= np.linalg.norm(dc1_dir)\n",
    "dc2_dir = np.imag(e_vec[:, 0])\n",
    "angle_r_i = np.arccos(np.dot(dc1_dir, dc2_dir)/(np.linalg.norm(dc1_dir) * np.linalg.norm(dc2_dir))) * 180 / np.pi\n",
    "print(\"Angle between real and imag: \", angle_r_i)\n",
    "dc2_dir -= dc1_dir * np.dot(dc1_dir, dc2_dir)\n",
    "dc2_dir /= np.linalg.norm(dc2_dir)\n",
    "axis_dir = scipy.linalg.null_space([dc1_dir, dc2_dir]).flatten()\n",
    "axis_dir /= np.linalg.norm(axis_dir)\n",
    "#print()\n",
    "plt.figure()\n",
    "plt.plot(dc1_dir, '.', label = 'DC1')\n",
    "plt.plot(dc2_dir, '.', label = 'DC2')\n",
    "plt.legend()\n",
    "# print(np.linalg.norm(dc1_dir))\n",
    "# print('DC2')\n",
    "# print(dc2_dir)\n",
    "# print(np.linalg.norm(dc2_dir))\n",
    "# print('Axis vector')\n",
    "# print(axis_dir)"
   ]
  },
  {
   "cell_type": "code",
   "execution_count": null,
   "id": "6631a448",
   "metadata": {},
   "outputs": [],
   "source": [
    "fig, axes = plt.subplots(1, 2, figsize = (15, 5))\n",
    "hm0 = axes[0].imshow(x_v_fit['W'])\n",
    "axes[0].set_title('W = V \\\\ X')\n",
    "fig.colorbar(hm0, ax = axes[0])\n",
    "hm2 = axes[1].imshow([np.abs(e_val)])\n",
    "fig.colorbar(hm2, ax = axes[1])\n",
    "axes[1].set_title('Eigenvalues (abs)')\n",
    "pass"
   ]
  },
  {
   "cell_type": "markdown",
   "id": "4d7ed9c8",
   "metadata": {},
   "source": [
    "Adding the axes to the RNA velocity plot shows the computed axes of rotation (in orange): and it seems about right"
   ]
  },
  {
   "cell_type": "code",
   "execution_count": null,
   "id": "63dde8bd",
   "metadata": {},
   "outputs": [],
   "source": [
    "crna.pl.plot_arrows_3d(adata, arrows = 'velocity_pca', color_gradients = ['S_score', 'G2M_score'], directions = [10 * axis_dir, 10 * dc1_dir, 10 * dc2_dir])"
   ]
  },
  {
   "cell_type": "markdown",
   "id": "08ead744",
   "metadata": {},
   "source": [
    "Let's transform all the expression and velocity data from the PCA space to the space defined by the rotation: DC space (dynamic components). Also we transform the coordinates of each cell into polar coordinates, labeling the radius as `pseudo_r` and the angle, normalized to the interval 0-1 as `pseudo_t`. Our claim is that the angle represents the time along the cell cycle. (The offset is adjusted as explained later so that mitosis is at $t = 0$)"
   ]
  },
  {
   "cell_type": "code",
   "execution_count": null,
   "id": "770d9e38",
   "metadata": {
    "tags": []
   },
   "outputs": [],
   "source": [
    "def project_into_plane(adata, plane_vecs_col):\n",
    "    n_comp = plane_vecs_col.shape[0]\n",
    "    X_DC = np.dot(adata.obsm['X_pca'][:, :n_comp], plane_vecs_col)\n",
    "    V_DC = np.dot(adata.obsm['velocity_pca'][:, :n_comp], plane_vecs_col)\n",
    "    # Here the transformation to pseudotime should be adjusted\n",
    "    adata.obs['pseudo_t'] = np.mod(np.arctan2(X_DC[:, 1], X_DC[:, 0]) / np.pi / 2, 1)\n",
    "    adata.obs['pseudo_r'] = np.sqrt(np.power(X_DC[:, 1], 2) + np.power(X_DC[:, 0], 2))\n",
    "    adata.obs['dc1'] = X_DC[:, 0]\n",
    "    adata.obs['dc2'] = X_DC[:, 1]\n",
    "    adata.obsm['X_dc'] = X_DC\n",
    "    adata.obsm['velocity_dc'] = V_DC\n",
    "    adata.varm['DCs'] = np.dot(adata.varm['PCs'], plane_vecs_col)\n",
    "    \n",
    "project_into_plane(adata, np.array([dc1_dir, dc2_dir]).T)"
   ]
  },
  {
   "cell_type": "markdown",
   "id": "d1ef9c53",
   "metadata": {},
   "source": [
    "Now we can visualize the cell cycle well also in 2D:"
   ]
  },
  {
   "cell_type": "code",
   "execution_count": null,
   "id": "734d5f24",
   "metadata": {},
   "outputs": [],
   "source": [
    "fig, axes = plt.subplots(1, 2, figsize = (15, 5))\n",
    "scv.pl.velocity_embedding(adata, color = 'phase', basis = 'dc', arrow_length = 4, arrow_size = 2, legend_loc = 'on data', ax = axes[0], show = False)\n",
    "axes[0].scatter(0, 0, marker = '+', c = 'k')\n",
    "scv.pl.velocity_embedding_grid(adata, color = 'phase', basis = 'dc', arrow_length = 4, arrow_size = 2, legend_loc = 'on data', ax = axes[1], show = False)\n",
    "axes[1].scatter(0, 0, marker = '+', c = 'k')"
   ]
  },
  {
   "cell_type": "markdown",
   "id": "bd199e63",
   "metadata": {},
   "source": [
    "Let's plot the cell phase scores, computed previously and the phase assigned along the pseudo time. The phases seem well separated, which validates our assumption that this circular motion represents the cell cycle"
   ]
  },
  {
   "cell_type": "code",
   "execution_count": null,
   "id": "8e564ca0",
   "metadata": {
    "tags": []
   },
   "outputs": [],
   "source": [
    "fig, axes = plt.subplots(1, 2, figsize = (15, 5))\n",
    "sc.pl.scatter(adata, x = 'pseudo_t', y = 'S_score', color = 'phase', ax = axes[0], show = False, legend_loc= 'on data')\n",
    "sc.pl.scatter(adata, x = 'pseudo_t', y = 'G2M_score', color = 'phase', ax = axes[1], show = False, legend_loc= 'on data')"
   ]
  },
  {
   "cell_type": "markdown",
   "id": "0201eeb1",
   "metadata": {},
   "source": [
    "The values of the dynamical components can also be plotted along the cell cycle:"
   ]
  },
  {
   "cell_type": "code",
   "execution_count": null,
   "id": "9a06d2f8",
   "metadata": {},
   "outputs": [],
   "source": [
    "fig, axes = plt.subplots(1, 2, figsize = (15, 5))\n",
    "#sc.pl.scatter(adata, x = 'pseudo_t', y = 'pseudo_r', color = 'phase', legend_loc= 'on data', ax = axes[0, 0], show = False)\n",
    "sc.pl.scatter(adata, x = 'pseudo_t', y = 'dc1', color = 'phase', legend_loc= 'on data', ax = axes[0], show = False)\n",
    "sc.pl.scatter(adata, x = 'pseudo_t', y = 'dc2', color = 'phase', legend_loc= 'on data', ax = axes[1], show = False)\n",
    "#sc.pl.scatter(adata, x = 'pseudo_t', y = 'dc3', color = 'phase', legend_loc= 'on data', ax = axes[2], show = False)"
   ]
  },
  {
   "cell_type": "code",
   "execution_count": null,
   "id": "6c4be05a",
   "metadata": {},
   "outputs": [],
   "source": [
    "# def save_results(dry_run = False):\n",
    "#     # Order observation in pseudotime order\n",
    "#     time_order = np.argsort(adata.obs['pseudo_t'])\n",
    "#     adata_ord = adata[time_order, :]\n",
    "#     adata_all_ord = adata_all[time_order, :]\n",
    "#     # Update adata_all with computed data\n",
    "#     adata_all_ord.obs = adata_ord.obs[['n_counts', 'n_genes', 'n_counts_unspliced', 'n_genes_unspliced', 'mt_frac', 'S_score', 'G2M_score', 'phase', 'pseudo_t']].copy()\n",
    "#     # Extract only the basic information to save\n",
    "#     adata_save = sc.AnnData(\n",
    "#         X = adata_ord.X, obs = adata_ord.obs, var = adata_ord.var, \n",
    "#         obsm = adata_ord.obsm, varm = adata_ord.varm,\n",
    "#         layers = adata_ord.layers\n",
    "#     )\n",
    "#     print(adata_save)\n",
    "#     if not dry_run:\n",
    "#         adata_save.write('/home/jovyan/notebooks/sysmo/cell-cycle/saved-data/GSM4224315_qc_velocity_t.h5ad')\n",
    "#     adata_all_save = sc.AnnData(X = adata_all_ord.X, obs = adata_all_ord.obs, var = adata_all_ord.var, layers = adata_all_ord.layers)\n",
    "#     print(adata_all_save)\n",
    "#     if not dry_run:\n",
    "#         adata_all_save.write('/home/jovyan/notebooks/sysmo/cell-cycle/saved-data/GSM4224315_qc_all_genes_counts_t.h5ad')\n",
    "# save_results()\n"
   ]
  },
  {
   "cell_type": "markdown",
   "id": "7fd1c588",
   "metadata": {},
   "source": [
    "Now let's use the order determined by `pseudo_t` and plot the absolute number of spliced and unspliced reads for each cell (normalized to 1e4 and 1e3 respectively and then smoothed). We expect that:\n",
    "  - the number grows from G1 to M\n",
    "  - the number drops sharply in the M phase\n",
    "  - the ratio of spliced to unspliced RNA drops during the M phase, due to chromosme packing and inactivation\n",
    "\n",
    "We see that these predictions hold, and also the second one helps us identify better the moment of mitosis (the black line)"
   ]
  },
  {
   "cell_type": "code",
   "execution_count": null,
   "id": "be1d132d",
   "metadata": {},
   "outputs": [],
   "source": [
    "import scipy.signal as sig\n",
    "n_spliced_raw = np.sum(adata.layers['spliced_counts'], axis = 1, keepdims = True) / 1e4\n",
    "n_unspliced_raw = np.sum(adata.layers['unspliced_counts'], axis = 1, keepdims = True) / 1e3\n",
    "time_order = np.argsort(adata.obs['pseudo_t'])\n",
    "t, n_spliced = crna.tools.bin_smooth(\n",
    "    adata.obs['pseudo_t'][time_order], \n",
    "    n_spliced_raw[time_order],\n",
    "    n_bins = 100\n",
    ")\n",
    "_, n_unspliced = crna.tools.bin_smooth(\n",
    "    adata.obs['pseudo_t'][time_order], \n",
    "    n_unspliced_raw[time_order],\n",
    "    n_bins = 100\n",
    ")\n",
    "n_spliced = n_spliced.flatten()\n",
    "n_spliced = np.hstack([n_spliced, n_spliced])\n",
    "n_spliced = sig.savgol_filter(n_spliced, 21, 3)\n",
    "n_unspliced = n_unspliced.flatten()\n",
    "n_unspliced = np.hstack([n_unspliced, n_unspliced])\n",
    "n_unspliced = sig.savgol_filter(n_unspliced, 31, 3)\n",
    "# plt.scatter(adata.obs['pseudo_t'], n_spliced_raw, s = 2, c = 'b', label = 'spliced')\n",
    "# plt.scatter(adata.obs['pseudo_t'], n_unspliced_raw, s = 2, c = 'r', label = 'unspliced')\n",
    "plt.plot(np.hstack([t,t + 1]), n_spliced, 'b', label = 'spliced')\n",
    "plt.plot(np.hstack([t,t + 1]), n_unspliced, 'r', label = 'unspliced')\n",
    "plt.plot([1, 1], [0, 0.5], 'k')\n",
    "plt.legend()\n",
    "pass"
   ]
  },
  {
   "cell_type": "markdown",
   "id": "eb27a1da",
   "metadata": {},
   "source": [
    "Let's have a look at the cyclin levels. Unfortunately CCND3 is not a highly variable gene, so only the other 3 can be plotted:"
   ]
  },
  {
   "cell_type": "markdown",
   "id": "cb2a0ad8",
   "metadata": {},
   "source": [
    "## (Preliminary) Gene Analysis"
   ]
  },
  {
   "cell_type": "code",
   "execution_count": null,
   "id": "c518af75",
   "metadata": {},
   "outputs": [],
   "source": [
    "adata_all.obs['pseudo_t'] = adata.obs['pseudo_t'].copy()\n",
    "scv.pl.heatmap(adata, var_names = ['CCND3', 'CCNE2', 'CCNA2', 'CCNB1'], sortby = 'pseudo_t', n_convolve = 10, colorbar = True, sort = False)\n",
    "#scv.pl.heatmap(adata_all, var_names = ['CCND3', 'CCNE2', 'CCNA2', 'CCNB1'], sortby = 'pseudo_t', n_convolve = 10, colorbar = True, sort = False)"
   ]
  },
  {
   "cell_type": "markdown",
   "id": "dc52d265",
   "metadata": {},
   "source": [
    "The absolute counts are rather low, so for most ones the signal to noise ratio is rather small."
   ]
  },
  {
   "cell_type": "code",
   "execution_count": null,
   "id": "5695a627",
   "metadata": {
    "tags": []
   },
   "outputs": [],
   "source": [
    "scv.pl.scatter(adata_all, x = 'pseudo_t', y = ['CCND3', 'CCNE2', 'CCNA2', 'CCNB1'])"
   ]
  },
  {
   "cell_type": "code",
   "execution_count": null,
   "id": "3b417ad9",
   "metadata": {},
   "outputs": [],
   "source": [
    "def get_high_weight_genes(adata, pc_index, thresholds):\n",
    "    pc1_weights = adata.varm['PCs'][:, pc_index]\n",
    "    pc1_order = np.argsort(pc1_weights)\n",
    "    h_genes = pc1_weights > thresholds['pos']\n",
    "    print(np.sum(h_genes))\n",
    "    l_genes = pc1_weights < thresholds['neg']\n",
    "    print(np.sum(l_genes))\n",
    "    print(adata.var.index.values[h_genes | l_genes])\n",
    "    #plt.plot(pc1_weights[pc1_order], '.')\n",
    "    \n",
    "get_high_weight_genes(adata, 0, thresholds = {'pos': 0.01, 'neg': -0.1})\n",
    "get_high_weight_genes(adata, 1, thresholds = {'pos': 0.1, 'neg': -0.1})\n",
    "get_high_weight_genes(adata, 2, thresholds = {'pos': 0.1, 'neg': -0.1})\n",
    "get_high_weight_genes(adata, 3, thresholds = {'pos': 0.1, 'neg': -0.1})"
   ]
  },
  {
   "cell_type": "code",
   "execution_count": null,
   "id": "5d0fc34b",
   "metadata": {},
   "outputs": [],
   "source": [
    "pc_genes = ['ARL6IP1', 'ASPM', 'AURKA', 'C12orf45', 'CCNB1', 'CCNE2', 'CDCA7', 'CDK1', 'CENPF', 'CKS2', 'CTC-338M12.4', 'FAM111B', 'GINS2', 'HIST1H2AC', 'HIST1H2BD', 'HIST3H2A', 'HMGB2', 'KIF23', 'KPNA2', 'KRT18', 'MKI67', 'MSH6', 'NR2C2AP', 'NUSAP1', 'PCNA', 'PRC1', 'RPLP1', 'SMC4', 'TOP2A', 'TPX2', 'UBE2C', 'UNG', 'AURKA', 'CCNB1', 'CDC20', 'CKS2', 'MT-ATP6', 'MT-CO1', 'MT-CO2', 'MT-CO3', 'MT-CYB', 'MT-ND1', 'MT-ND2', 'MT-ND4', 'MT-ND4L', 'MT-ND5', 'MT-RNR1', 'TOP2A', 'TPX2', 'TUBA1C', 'UBE2C', 'ARL6IP1', 'CCNB1', 'CDK1', 'DYNLL1', 'GINS2', 'GMNN', 'HIST1H4C', 'HMGB2'\n",
    " 'KIAA0101', 'NTS', 'PCNA', 'PTTG1', 'RRM2', 'SNHG3', 'TYMS', 'UBE2T', 'USP1']\n",
    "pc_genes = set([g for g in pc_genes if not g.startswith('MT-')])\n",
    "scv.pl.heatmap(adata, var_names = pc_genes, sortby = 'pseudo_t', n_convolve = 30, colorbar = True, figsize = (15, 15))\n"
   ]
  },
  {
   "cell_type": "code",
   "execution_count": null,
   "id": "4b5114a2",
   "metadata": {},
   "outputs": [],
   "source": [
    "adata"
   ]
  },
  {
   "cell_type": "code",
   "execution_count": null,
   "id": "42d8aebc",
   "metadata": {},
   "outputs": [],
   "source": [
    "def test_transformation(adata):\n",
    "    gene = 'PCNA'\n",
    "    time_order = np.argsort(adata.obs['pseudo_t'])\n",
    "    X0 = adata[time_order, gene].X.flatten()\n",
    "    X0 = X0 - np.mean(X0)\n",
    "    plt.plot(X0, '.')\n",
    "    gene_weights_pca = adata.varm['PCs']\n",
    "    gene_weights_dca = adata.varm['DCs']\n",
    "    gene_pc = adata.obsm['X_pca']\n",
    "    gene_dc = adata.obsm['X_dc']\n",
    "    print(gene_weights_pca.shape)\n",
    "    print(gene_pc.shape)\n",
    "    adata.layers['PCA_expr'] = np.dot(gene_pc[:, :2], gene_weights_pca[:, :2].T)\n",
    "    adata.layers['DCA_expr'] = np.dot(gene_dc, gene_weights_dca.T)\n",
    "    plt.plot(adata[time_order, gene].layers['PCA_expr'].flatten(), '.')\n",
    "    plt.plot(adata[time_order, gene].layers['DCA_expr'].flatten(), '.')\n",
    "    \n",
    "test_transformation(adata)\n"
   ]
  },
  {
   "cell_type": "code",
   "execution_count": null,
   "id": "fe00e3ec",
   "metadata": {},
   "outputs": [],
   "source": []
  }
 ],
 "metadata": {
  "kernelspec": {
   "display_name": "Python 3",
   "language": "python",
   "name": "python3"
  },
  "language_info": {
   "codemirror_mode": {
    "name": "ipython",
    "version": 3
   },
   "file_extension": ".py",
   "mimetype": "text/x-python",
   "name": "python",
   "nbconvert_exporter": "python",
   "pygments_lexer": "ipython3",
   "version": "3.8.8"
  }
 },
 "nbformat": 4,
 "nbformat_minor": 5
}
