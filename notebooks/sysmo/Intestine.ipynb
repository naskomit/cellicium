{
 "cells": [
  {
   "cell_type": "markdown",
   "id": "chemical-separate",
   "metadata": {},
   "source": [
    "# Intestine"
   ]
  },
  {
   "cell_type": "markdown",
   "id": "vocational-browser",
   "metadata": {},
   "source": [
    "<img src=\"https://upload.wikimedia.org/wikipedia/commons/3/3d/Illu_small_intestine.jpg\" width=400 />\n",
    "\n",
    "## Segments:\n",
    "- duodenum\n",
    "  - The duodenum is largely responsible for the breakdown of food in the small intestine, using enzymes. The duodenum also regulates the rate of emptying of the stomach via hormonal pathways. Secretin and cholecystokinin are released from cells in the duodenal epithelium in response to acidic and fatty stimuli present there when the pylorus opens and emits gastric chyme into the duodenum for further digestion. These cause the liver and gall bladder to release bile, and the pancreas to release bicarbonate and digestive enzymes such as trypsin, lipase and amylase into the duodenum as they are needed. The villi of the duodenum have a leafy-looking appearance, which is a histologically identifiable structure. Brunner's glands, which secrete mucus, are found in the duodenum only. The duodenum wall consists of a very thin layer of cells that form the muscularis mucosae.\n",
    "- jejunum\n",
    "  - The lining of the jejunum is specialized for the absorption by enterocytes of small nutrient particles which have been previously digested by enzymes in the duodenum. Once absorbed, nutrients (with the exception of fat, which goes to the lymph) pass from the enterocytes into the enterohepatic circulation and enter the liver via the hepatic portal vein, where the blood is processed\n",
    "- ileum\n",
    "  - The main function of the ileum is to absorb vitamin B12, bile salts, and whatever products of digestion were not absorbed by the jejunum. The wall itself is made up of folds, each of which has many tiny finger-like projections known as villi on its surface. In turn, the epithelial cells that line these villi possess even larger numbers of microvilli. Therefore, the ileum has an extremely large surface area both for the adsorption (attachment) of enzyme molecules and for the absorption of products of digestion. The DNES (diffuse neuroendocrine system) cells of the ileum secrete various hormones (gastrin, secretin, cholecystokinin) into the blood. Cells in the lining of the ileum secrete the protease and carbohydrase enzymes responsible for the final stages of protein and carbohydrate digestion into the lumen of the intestine. These enzymes are present in the cytoplasm of the epithelial cells. The villi contain large numbers of capillaries that take the amino acids and glucose produced by digestion to the hepatic portal vein and the liver. Lacteals are small lymph vessels, and are present in villi. They absorb fatty acid and glycerol, the products of fat digestion. Layers of circular and longitudinal smooth muscle enable the chyme (partly digested food and water) to be pushed along the ileum by waves of muscle contractions called peristalsis. The remaining chyme is passed to the colon.\n",
    "  \n",
    "## Cell types\n",
    "- tuft cells, \n",
    "- enteroendocrine cells, \n",
    "- paneth cells, \n",
    "- enterocytes,\n",
    "- stem cells"
   ]
  },
  {
   "cell_type": "code",
   "execution_count": null,
   "id": "instant-modification",
   "metadata": {},
   "outputs": [],
   "source": []
  }
 ],
 "metadata": {
  "kernelspec": {
   "display_name": "Python 3",
   "language": "python",
   "name": "python3"
  },
  "language_info": {
   "codemirror_mode": {
    "name": "ipython",
    "version": 3
   },
   "file_extension": ".py",
   "mimetype": "text/x-python",
   "name": "python",
   "nbconvert_exporter": "python",
   "pygments_lexer": "ipython3",
   "version": "3.8.6"
  }
 },
 "nbformat": 4,
 "nbformat_minor": 5
}
